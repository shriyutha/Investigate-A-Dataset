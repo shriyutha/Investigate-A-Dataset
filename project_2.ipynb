{
 "cells": [
  {
   "cell_type": "markdown",
   "metadata": {},
   "source": [
    "Project: Investigate a Dataset (TMDb Movie Data)\n",
    "    \n"
   ]
  },
  {
   "cell_type": "markdown",
   "metadata": {},
   "source": [
    "\n",
    "Table of Contents\n",
    "\n",
    "1. Introduction\n",
    "2. Data Wrangling\n",
    "3. Exploratory Data Analysis\n",
    "4. Conclusions\n"
   ]
  },
  {
   "cell_type": "markdown",
   "metadata": {},
   "source": [
    "INTRODUCTION:\n",
    "\n",
    "I choose TMDb Movie Data Set to for Data Analysis. \n",
    "This Data Set contains more than 1000 records and 21 columns. \n",
    "And it includes information about budget, revenue, runtime, casting, director, genres, release_year, popularity of the movies, viewer's rating, production company and others.\n",
    "This Data Set can help us to understand various factors like trends on genres over years, profitabiliy, top movies over years, average runtime over years, top directors and casts and many more.\n",
    "Following are the points which colud be analysed using Numpy, Pandas(Series and DataFrame) and Matplotlib.\n",
    "\n",
    "\n",
    "NOTE: For this analysis, I am not using inferential statistics and machine learning, so findings are tentative.\n",
    "\n",
    "    \n",
    "QUESTIONS:\n",
    "    \n",
    "    1. Which genre has the highest movies releases?\n",
    "    \n",
    "    2. With respect to vote counts\n",
    "        2.a. Which are the Top 5 Movies ?\n",
    "        2.b. Who are the Top 5 actors ?\n",
    "        2.c. Who are the Top 5 directors ?\n",
    "    \n",
    "    3. Which movie(s) \n",
    "       3.a. Have earned the highest and least profits?\n",
    "       3.b. Have the highest and least popularity scores?\n",
    "       3.c. Has the highest and least revenue?\n",
    "       3.d. Have the highest and least budget?\n",
    "    \n",
    "    4. 4.a. Which year has the highest number of movie releases?\n",
    "       4.b. which year has the highest annual profit?\n",
    "       4.c. Which year has the highest annual popularity count?\n",
    "       \n",
    "    5. 5.a What is Average runtime of all the movies in the data set?\n",
    "       5.b How does the yearly average movie run time vary over the years in the [1859-2015] ?\n",
    "    \n",
    "    6. 6.a. Which acter acted in highest number of films?\n",
    "       6.b. Which director directed highest number of films?\n",
    "       \n",
    "    7. 7.a. Is there a relationship between movie popularity v/s vote_count? \n",
    "       7.b. Is there a relationship between movie profit v/s revenue?"
   ]
  },
  {
   "cell_type": "code",
   "execution_count": 55,
   "metadata": {},
   "outputs": [],
   "source": [
    "# Importing packages Numpy, Pandas and Matplotlib.\n",
    "\n",
    "import numpy as np\n",
    "import pandas as pd\n",
    "\n",
    "from pandas import Series, DataFrame\n",
    "\n",
    "%matplotlib inline\n",
    "\n",
    "import matplotlib.pyplot as plt"
   ]
  },
  {
   "cell_type": "markdown",
   "metadata": {},
   "source": [
    "DATA WRANGLING:\n",
    "\n",
    "Here we are going to import CSV file and will perform following operations:\n",
    "\n",
    "    a. Checking head and tail of the data.\n",
    "    b. Checking size, number of rows, columns.\n",
    "    c. Checking null values, description and info.\n",
    "\n",
    "NOTE: Here is the link of the data set.\n",
    "\n",
    "https://d17h27t6h515a5.cloudfront.net/topher/2017/October/59dd1c4c_tmdb-movies/tmdb-movies.csv"
   ]
  },
  {
   "cell_type": "code",
   "execution_count": 56,
   "metadata": {},
   "outputs": [],
   "source": [
    "# Loading the data set.\n",
    "\n",
    "data = pd.read_csv('tmdb-movies.csv', sep = ',')"
   ]
  },
  {
   "cell_type": "code",
   "execution_count": 57,
   "metadata": {},
   "outputs": [
    {
     "data": {
      "text/html": [
       "<div>\n",
       "<style scoped>\n",
       "    .dataframe tbody tr th:only-of-type {\n",
       "        vertical-align: middle;\n",
       "    }\n",
       "\n",
       "    .dataframe tbody tr th {\n",
       "        vertical-align: top;\n",
       "    }\n",
       "\n",
       "    .dataframe thead th {\n",
       "        text-align: right;\n",
       "    }\n",
       "</style>\n",
       "<table border=\"1\" class=\"dataframe\">\n",
       "  <thead>\n",
       "    <tr style=\"text-align: right;\">\n",
       "      <th></th>\n",
       "      <th>id</th>\n",
       "      <th>imdb_id</th>\n",
       "      <th>popularity</th>\n",
       "      <th>budget</th>\n",
       "      <th>revenue</th>\n",
       "      <th>original_title</th>\n",
       "      <th>cast</th>\n",
       "      <th>homepage</th>\n",
       "      <th>director</th>\n",
       "      <th>tagline</th>\n",
       "      <th>...</th>\n",
       "      <th>overview</th>\n",
       "      <th>runtime</th>\n",
       "      <th>genres</th>\n",
       "      <th>production_companies</th>\n",
       "      <th>release_date</th>\n",
       "      <th>vote_count</th>\n",
       "      <th>vote_average</th>\n",
       "      <th>release_year</th>\n",
       "      <th>budget_adj</th>\n",
       "      <th>revenue_adj</th>\n",
       "    </tr>\n",
       "  </thead>\n",
       "  <tbody>\n",
       "    <tr>\n",
       "      <th>0</th>\n",
       "      <td>135397</td>\n",
       "      <td>tt0369610</td>\n",
       "      <td>32.985763</td>\n",
       "      <td>150000000</td>\n",
       "      <td>1513528810</td>\n",
       "      <td>Jurassic World</td>\n",
       "      <td>Chris Pratt|Bryce Dallas Howard|Irrfan Khan|Vi...</td>\n",
       "      <td>http://www.jurassicworld.com/</td>\n",
       "      <td>Colin Trevorrow</td>\n",
       "      <td>The park is open.</td>\n",
       "      <td>...</td>\n",
       "      <td>Twenty-two years after the events of Jurassic ...</td>\n",
       "      <td>124</td>\n",
       "      <td>Action|Adventure|Science Fiction|Thriller</td>\n",
       "      <td>Universal Studios|Amblin Entertainment|Legenda...</td>\n",
       "      <td>6/9/2015</td>\n",
       "      <td>5562</td>\n",
       "      <td>6.5</td>\n",
       "      <td>2015</td>\n",
       "      <td>137999939.3</td>\n",
       "      <td>1.392446e+09</td>\n",
       "    </tr>\n",
       "    <tr>\n",
       "      <th>1</th>\n",
       "      <td>76341</td>\n",
       "      <td>tt1392190</td>\n",
       "      <td>28.419936</td>\n",
       "      <td>150000000</td>\n",
       "      <td>378436354</td>\n",
       "      <td>Mad Max: Fury Road</td>\n",
       "      <td>Tom Hardy|Charlize Theron|Hugh Keays-Byrne|Nic...</td>\n",
       "      <td>http://www.madmaxmovie.com/</td>\n",
       "      <td>George Miller</td>\n",
       "      <td>What a Lovely Day.</td>\n",
       "      <td>...</td>\n",
       "      <td>An apocalyptic story set in the furthest reach...</td>\n",
       "      <td>120</td>\n",
       "      <td>Action|Adventure|Science Fiction|Thriller</td>\n",
       "      <td>Village Roadshow Pictures|Kennedy Miller Produ...</td>\n",
       "      <td>5/13/2015</td>\n",
       "      <td>6185</td>\n",
       "      <td>7.1</td>\n",
       "      <td>2015</td>\n",
       "      <td>137999939.3</td>\n",
       "      <td>3.481613e+08</td>\n",
       "    </tr>\n",
       "    <tr>\n",
       "      <th>2</th>\n",
       "      <td>262500</td>\n",
       "      <td>tt2908446</td>\n",
       "      <td>13.112507</td>\n",
       "      <td>110000000</td>\n",
       "      <td>295238201</td>\n",
       "      <td>Insurgent</td>\n",
       "      <td>Shailene Woodley|Theo James|Kate Winslet|Ansel...</td>\n",
       "      <td>http://www.thedivergentseries.movie/#insurgent</td>\n",
       "      <td>Robert Schwentke</td>\n",
       "      <td>One Choice Can Destroy You</td>\n",
       "      <td>...</td>\n",
       "      <td>Beatrice Prior must confront her inner demons ...</td>\n",
       "      <td>119</td>\n",
       "      <td>Adventure|Science Fiction|Thriller</td>\n",
       "      <td>Summit Entertainment|Mandeville Films|Red Wago...</td>\n",
       "      <td>3/18/2015</td>\n",
       "      <td>2480</td>\n",
       "      <td>6.3</td>\n",
       "      <td>2015</td>\n",
       "      <td>101199955.5</td>\n",
       "      <td>2.716190e+08</td>\n",
       "    </tr>\n",
       "    <tr>\n",
       "      <th>3</th>\n",
       "      <td>140607</td>\n",
       "      <td>tt2488496</td>\n",
       "      <td>11.173104</td>\n",
       "      <td>200000000</td>\n",
       "      <td>2068178225</td>\n",
       "      <td>Star Wars: The Force Awakens</td>\n",
       "      <td>Harrison Ford|Mark Hamill|Carrie Fisher|Adam D...</td>\n",
       "      <td>http://www.starwars.com/films/star-wars-episod...</td>\n",
       "      <td>J.J. Abrams</td>\n",
       "      <td>Every generation has a story.</td>\n",
       "      <td>...</td>\n",
       "      <td>Thirty years after defeating the Galactic Empi...</td>\n",
       "      <td>136</td>\n",
       "      <td>Action|Adventure|Science Fiction|Fantasy</td>\n",
       "      <td>Lucasfilm|Truenorth Productions|Bad Robot</td>\n",
       "      <td>12/15/2015</td>\n",
       "      <td>5292</td>\n",
       "      <td>7.5</td>\n",
       "      <td>2015</td>\n",
       "      <td>183999919.0</td>\n",
       "      <td>1.902723e+09</td>\n",
       "    </tr>\n",
       "    <tr>\n",
       "      <th>4</th>\n",
       "      <td>168259</td>\n",
       "      <td>tt2820852</td>\n",
       "      <td>9.335014</td>\n",
       "      <td>190000000</td>\n",
       "      <td>1506249360</td>\n",
       "      <td>Furious 7</td>\n",
       "      <td>Vin Diesel|Paul Walker|Jason Statham|Michelle ...</td>\n",
       "      <td>http://www.furious7.com/</td>\n",
       "      <td>James Wan</td>\n",
       "      <td>Vengeance Hits Home</td>\n",
       "      <td>...</td>\n",
       "      <td>Deckard Shaw seeks revenge against Dominic Tor...</td>\n",
       "      <td>137</td>\n",
       "      <td>Action|Crime|Thriller</td>\n",
       "      <td>Universal Pictures|Original Film|Media Rights ...</td>\n",
       "      <td>4/1/2015</td>\n",
       "      <td>2947</td>\n",
       "      <td>7.3</td>\n",
       "      <td>2015</td>\n",
       "      <td>174799923.1</td>\n",
       "      <td>1.385749e+09</td>\n",
       "    </tr>\n",
       "  </tbody>\n",
       "</table>\n",
       "<p>5 rows × 21 columns</p>\n",
       "</div>"
      ],
      "text/plain": [
       "       id    imdb_id  popularity     budget     revenue  \\\n",
       "0  135397  tt0369610   32.985763  150000000  1513528810   \n",
       "1   76341  tt1392190   28.419936  150000000   378436354   \n",
       "2  262500  tt2908446   13.112507  110000000   295238201   \n",
       "3  140607  tt2488496   11.173104  200000000  2068178225   \n",
       "4  168259  tt2820852    9.335014  190000000  1506249360   \n",
       "\n",
       "                 original_title  \\\n",
       "0                Jurassic World   \n",
       "1            Mad Max: Fury Road   \n",
       "2                     Insurgent   \n",
       "3  Star Wars: The Force Awakens   \n",
       "4                     Furious 7   \n",
       "\n",
       "                                                cast  \\\n",
       "0  Chris Pratt|Bryce Dallas Howard|Irrfan Khan|Vi...   \n",
       "1  Tom Hardy|Charlize Theron|Hugh Keays-Byrne|Nic...   \n",
       "2  Shailene Woodley|Theo James|Kate Winslet|Ansel...   \n",
       "3  Harrison Ford|Mark Hamill|Carrie Fisher|Adam D...   \n",
       "4  Vin Diesel|Paul Walker|Jason Statham|Michelle ...   \n",
       "\n",
       "                                            homepage          director  \\\n",
       "0                      http://www.jurassicworld.com/   Colin Trevorrow   \n",
       "1                        http://www.madmaxmovie.com/     George Miller   \n",
       "2     http://www.thedivergentseries.movie/#insurgent  Robert Schwentke   \n",
       "3  http://www.starwars.com/films/star-wars-episod...       J.J. Abrams   \n",
       "4                           http://www.furious7.com/         James Wan   \n",
       "\n",
       "                         tagline      ...       \\\n",
       "0              The park is open.      ...        \n",
       "1             What a Lovely Day.      ...        \n",
       "2     One Choice Can Destroy You      ...        \n",
       "3  Every generation has a story.      ...        \n",
       "4            Vengeance Hits Home      ...        \n",
       "\n",
       "                                            overview runtime  \\\n",
       "0  Twenty-two years after the events of Jurassic ...     124   \n",
       "1  An apocalyptic story set in the furthest reach...     120   \n",
       "2  Beatrice Prior must confront her inner demons ...     119   \n",
       "3  Thirty years after defeating the Galactic Empi...     136   \n",
       "4  Deckard Shaw seeks revenge against Dominic Tor...     137   \n",
       "\n",
       "                                      genres  \\\n",
       "0  Action|Adventure|Science Fiction|Thriller   \n",
       "1  Action|Adventure|Science Fiction|Thriller   \n",
       "2         Adventure|Science Fiction|Thriller   \n",
       "3   Action|Adventure|Science Fiction|Fantasy   \n",
       "4                      Action|Crime|Thriller   \n",
       "\n",
       "                                production_companies release_date vote_count  \\\n",
       "0  Universal Studios|Amblin Entertainment|Legenda...     6/9/2015       5562   \n",
       "1  Village Roadshow Pictures|Kennedy Miller Produ...    5/13/2015       6185   \n",
       "2  Summit Entertainment|Mandeville Films|Red Wago...    3/18/2015       2480   \n",
       "3          Lucasfilm|Truenorth Productions|Bad Robot   12/15/2015       5292   \n",
       "4  Universal Pictures|Original Film|Media Rights ...     4/1/2015       2947   \n",
       "\n",
       "   vote_average  release_year   budget_adj   revenue_adj  \n",
       "0           6.5          2015  137999939.3  1.392446e+09  \n",
       "1           7.1          2015  137999939.3  3.481613e+08  \n",
       "2           6.3          2015  101199955.5  2.716190e+08  \n",
       "3           7.5          2015  183999919.0  1.902723e+09  \n",
       "4           7.3          2015  174799923.1  1.385749e+09  \n",
       "\n",
       "[5 rows x 21 columns]"
      ]
     },
     "execution_count": 57,
     "metadata": {},
     "output_type": "execute_result"
    }
   ],
   "source": [
    "# Check data set head.\n",
    "\n",
    "data.head()"
   ]
  },
  {
   "cell_type": "code",
   "execution_count": 58,
   "metadata": {},
   "outputs": [
    {
     "data": {
      "text/html": [
       "<div>\n",
       "<style scoped>\n",
       "    .dataframe tbody tr th:only-of-type {\n",
       "        vertical-align: middle;\n",
       "    }\n",
       "\n",
       "    .dataframe tbody tr th {\n",
       "        vertical-align: top;\n",
       "    }\n",
       "\n",
       "    .dataframe thead th {\n",
       "        text-align: right;\n",
       "    }\n",
       "</style>\n",
       "<table border=\"1\" class=\"dataframe\">\n",
       "  <thead>\n",
       "    <tr style=\"text-align: right;\">\n",
       "      <th></th>\n",
       "      <th>id</th>\n",
       "      <th>imdb_id</th>\n",
       "      <th>popularity</th>\n",
       "      <th>budget</th>\n",
       "      <th>revenue</th>\n",
       "      <th>original_title</th>\n",
       "      <th>cast</th>\n",
       "      <th>homepage</th>\n",
       "      <th>director</th>\n",
       "      <th>tagline</th>\n",
       "      <th>...</th>\n",
       "      <th>overview</th>\n",
       "      <th>runtime</th>\n",
       "      <th>genres</th>\n",
       "      <th>production_companies</th>\n",
       "      <th>release_date</th>\n",
       "      <th>vote_count</th>\n",
       "      <th>vote_average</th>\n",
       "      <th>release_year</th>\n",
       "      <th>budget_adj</th>\n",
       "      <th>revenue_adj</th>\n",
       "    </tr>\n",
       "  </thead>\n",
       "  <tbody>\n",
       "    <tr>\n",
       "      <th>10861</th>\n",
       "      <td>21</td>\n",
       "      <td>tt0060371</td>\n",
       "      <td>0.080598</td>\n",
       "      <td>0</td>\n",
       "      <td>0</td>\n",
       "      <td>The Endless Summer</td>\n",
       "      <td>Michael Hynson|Robert August|Lord 'Tally Ho' B...</td>\n",
       "      <td>NaN</td>\n",
       "      <td>Bruce Brown</td>\n",
       "      <td>NaN</td>\n",
       "      <td>...</td>\n",
       "      <td>The Endless Summer, by Bruce Brown, is one of ...</td>\n",
       "      <td>95</td>\n",
       "      <td>Documentary</td>\n",
       "      <td>Bruce Brown Films</td>\n",
       "      <td>6/15/1966</td>\n",
       "      <td>11</td>\n",
       "      <td>7.4</td>\n",
       "      <td>1966</td>\n",
       "      <td>0.0000</td>\n",
       "      <td>0.0</td>\n",
       "    </tr>\n",
       "    <tr>\n",
       "      <th>10862</th>\n",
       "      <td>20379</td>\n",
       "      <td>tt0060472</td>\n",
       "      <td>0.065543</td>\n",
       "      <td>0</td>\n",
       "      <td>0</td>\n",
       "      <td>Grand Prix</td>\n",
       "      <td>James Garner|Eva Marie Saint|Yves Montand|Tosh...</td>\n",
       "      <td>NaN</td>\n",
       "      <td>John Frankenheimer</td>\n",
       "      <td>Cinerama sweeps YOU into a drama of speed and ...</td>\n",
       "      <td>...</td>\n",
       "      <td>Grand Prix driver Pete Aron is fired by his te...</td>\n",
       "      <td>176</td>\n",
       "      <td>Action|Adventure|Drama</td>\n",
       "      <td>Cherokee Productions|Joel Productions|Douglas ...</td>\n",
       "      <td>12/21/1966</td>\n",
       "      <td>20</td>\n",
       "      <td>5.7</td>\n",
       "      <td>1966</td>\n",
       "      <td>0.0000</td>\n",
       "      <td>0.0</td>\n",
       "    </tr>\n",
       "    <tr>\n",
       "      <th>10863</th>\n",
       "      <td>39768</td>\n",
       "      <td>tt0060161</td>\n",
       "      <td>0.065141</td>\n",
       "      <td>0</td>\n",
       "      <td>0</td>\n",
       "      <td>Beregis Avtomobilya</td>\n",
       "      <td>Innokentiy Smoktunovskiy|Oleg Efremov|Georgi Z...</td>\n",
       "      <td>NaN</td>\n",
       "      <td>Eldar Ryazanov</td>\n",
       "      <td>NaN</td>\n",
       "      <td>...</td>\n",
       "      <td>An insurance agent who moonlights as a carthie...</td>\n",
       "      <td>94</td>\n",
       "      <td>Mystery|Comedy</td>\n",
       "      <td>Mosfilm</td>\n",
       "      <td>1/1/1966</td>\n",
       "      <td>11</td>\n",
       "      <td>6.5</td>\n",
       "      <td>1966</td>\n",
       "      <td>0.0000</td>\n",
       "      <td>0.0</td>\n",
       "    </tr>\n",
       "    <tr>\n",
       "      <th>10864</th>\n",
       "      <td>21449</td>\n",
       "      <td>tt0061177</td>\n",
       "      <td>0.064317</td>\n",
       "      <td>0</td>\n",
       "      <td>0</td>\n",
       "      <td>What's Up, Tiger Lily?</td>\n",
       "      <td>Tatsuya Mihashi|Akiko Wakabayashi|Mie Hama|Joh...</td>\n",
       "      <td>NaN</td>\n",
       "      <td>Woody Allen</td>\n",
       "      <td>WOODY ALLEN STRIKES BACK!</td>\n",
       "      <td>...</td>\n",
       "      <td>In comic Woody Allen's film debut, he took the...</td>\n",
       "      <td>80</td>\n",
       "      <td>Action|Comedy</td>\n",
       "      <td>Benedict Pictures Corp.</td>\n",
       "      <td>11/2/1966</td>\n",
       "      <td>22</td>\n",
       "      <td>5.4</td>\n",
       "      <td>1966</td>\n",
       "      <td>0.0000</td>\n",
       "      <td>0.0</td>\n",
       "    </tr>\n",
       "    <tr>\n",
       "      <th>10865</th>\n",
       "      <td>22293</td>\n",
       "      <td>tt0060666</td>\n",
       "      <td>0.035919</td>\n",
       "      <td>19000</td>\n",
       "      <td>0</td>\n",
       "      <td>Manos: The Hands of Fate</td>\n",
       "      <td>Harold P. Warren|Tom Neyman|John Reynolds|Dian...</td>\n",
       "      <td>NaN</td>\n",
       "      <td>Harold P. Warren</td>\n",
       "      <td>It's Shocking! It's Beyond Your Imagination!</td>\n",
       "      <td>...</td>\n",
       "      <td>A family gets lost on the road and stumbles up...</td>\n",
       "      <td>74</td>\n",
       "      <td>Horror</td>\n",
       "      <td>Norm-Iris</td>\n",
       "      <td>11/15/1966</td>\n",
       "      <td>15</td>\n",
       "      <td>1.5</td>\n",
       "      <td>1966</td>\n",
       "      <td>127642.2792</td>\n",
       "      <td>0.0</td>\n",
       "    </tr>\n",
       "  </tbody>\n",
       "</table>\n",
       "<p>5 rows × 21 columns</p>\n",
       "</div>"
      ],
      "text/plain": [
       "          id    imdb_id  popularity  budget  revenue  \\\n",
       "10861     21  tt0060371    0.080598       0        0   \n",
       "10862  20379  tt0060472    0.065543       0        0   \n",
       "10863  39768  tt0060161    0.065141       0        0   \n",
       "10864  21449  tt0061177    0.064317       0        0   \n",
       "10865  22293  tt0060666    0.035919   19000        0   \n",
       "\n",
       "                 original_title  \\\n",
       "10861        The Endless Summer   \n",
       "10862                Grand Prix   \n",
       "10863       Beregis Avtomobilya   \n",
       "10864    What's Up, Tiger Lily?   \n",
       "10865  Manos: The Hands of Fate   \n",
       "\n",
       "                                                    cast homepage  \\\n",
       "10861  Michael Hynson|Robert August|Lord 'Tally Ho' B...      NaN   \n",
       "10862  James Garner|Eva Marie Saint|Yves Montand|Tosh...      NaN   \n",
       "10863  Innokentiy Smoktunovskiy|Oleg Efremov|Georgi Z...      NaN   \n",
       "10864  Tatsuya Mihashi|Akiko Wakabayashi|Mie Hama|Joh...      NaN   \n",
       "10865  Harold P. Warren|Tom Neyman|John Reynolds|Dian...      NaN   \n",
       "\n",
       "                 director                                            tagline  \\\n",
       "10861         Bruce Brown                                                NaN   \n",
       "10862  John Frankenheimer  Cinerama sweeps YOU into a drama of speed and ...   \n",
       "10863      Eldar Ryazanov                                                NaN   \n",
       "10864         Woody Allen                          WOODY ALLEN STRIKES BACK!   \n",
       "10865    Harold P. Warren       It's Shocking! It's Beyond Your Imagination!   \n",
       "\n",
       "          ...                                                overview runtime  \\\n",
       "10861     ...       The Endless Summer, by Bruce Brown, is one of ...      95   \n",
       "10862     ...       Grand Prix driver Pete Aron is fired by his te...     176   \n",
       "10863     ...       An insurance agent who moonlights as a carthie...      94   \n",
       "10864     ...       In comic Woody Allen's film debut, he took the...      80   \n",
       "10865     ...       A family gets lost on the road and stumbles up...      74   \n",
       "\n",
       "                       genres  \\\n",
       "10861             Documentary   \n",
       "10862  Action|Adventure|Drama   \n",
       "10863          Mystery|Comedy   \n",
       "10864           Action|Comedy   \n",
       "10865                  Horror   \n",
       "\n",
       "                                    production_companies release_date  \\\n",
       "10861                                  Bruce Brown Films    6/15/1966   \n",
       "10862  Cherokee Productions|Joel Productions|Douglas ...   12/21/1966   \n",
       "10863                                            Mosfilm     1/1/1966   \n",
       "10864                            Benedict Pictures Corp.    11/2/1966   \n",
       "10865                                          Norm-Iris   11/15/1966   \n",
       "\n",
       "      vote_count  vote_average  release_year   budget_adj  revenue_adj  \n",
       "10861         11           7.4          1966       0.0000          0.0  \n",
       "10862         20           5.7          1966       0.0000          0.0  \n",
       "10863         11           6.5          1966       0.0000          0.0  \n",
       "10864         22           5.4          1966       0.0000          0.0  \n",
       "10865         15           1.5          1966  127642.2792          0.0  \n",
       "\n",
       "[5 rows x 21 columns]"
      ]
     },
     "execution_count": 58,
     "metadata": {},
     "output_type": "execute_result"
    }
   ],
   "source": [
    "# Check data set tail.\n",
    "\n",
    "data.tail()"
   ]
  },
  {
   "cell_type": "code",
   "execution_count": 59,
   "metadata": {},
   "outputs": [
    {
     "name": "stdout",
     "output_type": "stream",
     "text": [
      "This data set contains 10866 rows and 21 columns. (10866, 21)\n"
     ]
    },
    {
     "data": {
      "text/plain": [
       "(10866, 21)"
      ]
     },
     "execution_count": 59,
     "metadata": {},
     "output_type": "execute_result"
    }
   ],
   "source": [
    "# Check shape of the data set.\n",
    "\n",
    "print('This data set contains 10866 rows and 21 columns.', data.shape)\n",
    "data.shape"
   ]
  },
  {
   "cell_type": "code",
   "execution_count": 60,
   "metadata": {},
   "outputs": [
    {
     "name": "stdout",
     "output_type": "stream",
     "text": [
      "0 id\n",
      "1 imdb_id\n",
      "2 popularity\n",
      "3 budget\n",
      "4 revenue\n",
      "5 original_title\n",
      "6 cast\n",
      "7 homepage\n",
      "8 director\n",
      "9 tagline\n",
      "10 keywords\n",
      "11 overview\n",
      "12 runtime\n",
      "13 genres\n",
      "14 production_companies\n",
      "15 release_date\n",
      "16 vote_count\n",
      "17 vote_average\n",
      "18 release_year\n",
      "19 budget_adj\n",
      "20 revenue_adj\n"
     ]
    }
   ],
   "source": [
    "# Check basic information.\n",
    "# Check columns name.\n",
    "\n",
    "for ele1, ele2 in enumerate(data.columns):\n",
    "    print(ele1, ele2)"
   ]
  },
  {
   "cell_type": "code",
   "execution_count": 61,
   "metadata": {},
   "outputs": [
    {
     "data": {
      "text/plain": [
       "id                      10865\n",
       "imdb_id                 10855\n",
       "popularity              10814\n",
       "budget                    557\n",
       "revenue                  4702\n",
       "original_title          10571\n",
       "cast                    10719\n",
       "homepage                 2896\n",
       "director                 5067\n",
       "tagline                  7997\n",
       "keywords                 8804\n",
       "overview                10847\n",
       "runtime                   247\n",
       "genres                   2039\n",
       "production_companies     7445\n",
       "release_date             5909\n",
       "vote_count               1289\n",
       "vote_average               72\n",
       "release_year               56\n",
       "budget_adj               2614\n",
       "revenue_adj              4840\n",
       "dtype: int64"
      ]
     },
     "execution_count": 61,
     "metadata": {},
     "output_type": "execute_result"
    }
   ],
   "source": [
    "# Check basic information.\n",
    "# Check any unique values.\n",
    "\n",
    "data.nunique()"
   ]
  },
  {
   "cell_type": "code",
   "execution_count": 62,
   "metadata": {},
   "outputs": [
    {
     "data": {
      "text/html": [
       "<div>\n",
       "<style scoped>\n",
       "    .dataframe tbody tr th:only-of-type {\n",
       "        vertical-align: middle;\n",
       "    }\n",
       "\n",
       "    .dataframe tbody tr th {\n",
       "        vertical-align: top;\n",
       "    }\n",
       "\n",
       "    .dataframe thead th {\n",
       "        text-align: right;\n",
       "    }\n",
       "</style>\n",
       "<table border=\"1\" class=\"dataframe\">\n",
       "  <thead>\n",
       "    <tr style=\"text-align: right;\">\n",
       "      <th></th>\n",
       "      <th>id</th>\n",
       "      <th>popularity</th>\n",
       "      <th>budget</th>\n",
       "      <th>revenue</th>\n",
       "      <th>runtime</th>\n",
       "      <th>vote_count</th>\n",
       "      <th>vote_average</th>\n",
       "      <th>release_year</th>\n",
       "      <th>budget_adj</th>\n",
       "      <th>revenue_adj</th>\n",
       "    </tr>\n",
       "  </thead>\n",
       "  <tbody>\n",
       "    <tr>\n",
       "      <th>count</th>\n",
       "      <td>10866.000000</td>\n",
       "      <td>10866.000000</td>\n",
       "      <td>1.086600e+04</td>\n",
       "      <td>1.086600e+04</td>\n",
       "      <td>10866.000000</td>\n",
       "      <td>10866.000000</td>\n",
       "      <td>10866.000000</td>\n",
       "      <td>10866.000000</td>\n",
       "      <td>1.086600e+04</td>\n",
       "      <td>1.086600e+04</td>\n",
       "    </tr>\n",
       "    <tr>\n",
       "      <th>mean</th>\n",
       "      <td>66064.177434</td>\n",
       "      <td>0.646441</td>\n",
       "      <td>1.462570e+07</td>\n",
       "      <td>3.982332e+07</td>\n",
       "      <td>102.070863</td>\n",
       "      <td>217.389748</td>\n",
       "      <td>5.974922</td>\n",
       "      <td>2001.322658</td>\n",
       "      <td>1.755104e+07</td>\n",
       "      <td>5.136436e+07</td>\n",
       "    </tr>\n",
       "    <tr>\n",
       "      <th>std</th>\n",
       "      <td>92130.136561</td>\n",
       "      <td>1.000185</td>\n",
       "      <td>3.091321e+07</td>\n",
       "      <td>1.170035e+08</td>\n",
       "      <td>31.381405</td>\n",
       "      <td>575.619058</td>\n",
       "      <td>0.935142</td>\n",
       "      <td>12.812941</td>\n",
       "      <td>3.430616e+07</td>\n",
       "      <td>1.446325e+08</td>\n",
       "    </tr>\n",
       "    <tr>\n",
       "      <th>min</th>\n",
       "      <td>5.000000</td>\n",
       "      <td>0.000065</td>\n",
       "      <td>0.000000e+00</td>\n",
       "      <td>0.000000e+00</td>\n",
       "      <td>0.000000</td>\n",
       "      <td>10.000000</td>\n",
       "      <td>1.500000</td>\n",
       "      <td>1960.000000</td>\n",
       "      <td>0.000000e+00</td>\n",
       "      <td>0.000000e+00</td>\n",
       "    </tr>\n",
       "    <tr>\n",
       "      <th>25%</th>\n",
       "      <td>10596.250000</td>\n",
       "      <td>0.207583</td>\n",
       "      <td>0.000000e+00</td>\n",
       "      <td>0.000000e+00</td>\n",
       "      <td>90.000000</td>\n",
       "      <td>17.000000</td>\n",
       "      <td>5.400000</td>\n",
       "      <td>1995.000000</td>\n",
       "      <td>0.000000e+00</td>\n",
       "      <td>0.000000e+00</td>\n",
       "    </tr>\n",
       "    <tr>\n",
       "      <th>50%</th>\n",
       "      <td>20669.000000</td>\n",
       "      <td>0.383856</td>\n",
       "      <td>0.000000e+00</td>\n",
       "      <td>0.000000e+00</td>\n",
       "      <td>99.000000</td>\n",
       "      <td>38.000000</td>\n",
       "      <td>6.000000</td>\n",
       "      <td>2006.000000</td>\n",
       "      <td>0.000000e+00</td>\n",
       "      <td>0.000000e+00</td>\n",
       "    </tr>\n",
       "    <tr>\n",
       "      <th>75%</th>\n",
       "      <td>75610.000000</td>\n",
       "      <td>0.713817</td>\n",
       "      <td>1.500000e+07</td>\n",
       "      <td>2.400000e+07</td>\n",
       "      <td>111.000000</td>\n",
       "      <td>145.750000</td>\n",
       "      <td>6.600000</td>\n",
       "      <td>2011.000000</td>\n",
       "      <td>2.085325e+07</td>\n",
       "      <td>3.369710e+07</td>\n",
       "    </tr>\n",
       "    <tr>\n",
       "      <th>max</th>\n",
       "      <td>417859.000000</td>\n",
       "      <td>32.985763</td>\n",
       "      <td>4.250000e+08</td>\n",
       "      <td>2.781506e+09</td>\n",
       "      <td>900.000000</td>\n",
       "      <td>9767.000000</td>\n",
       "      <td>9.200000</td>\n",
       "      <td>2015.000000</td>\n",
       "      <td>4.250000e+08</td>\n",
       "      <td>2.827124e+09</td>\n",
       "    </tr>\n",
       "  </tbody>\n",
       "</table>\n",
       "</div>"
      ],
      "text/plain": [
       "                  id    popularity        budget       revenue       runtime  \\\n",
       "count   10866.000000  10866.000000  1.086600e+04  1.086600e+04  10866.000000   \n",
       "mean    66064.177434      0.646441  1.462570e+07  3.982332e+07    102.070863   \n",
       "std     92130.136561      1.000185  3.091321e+07  1.170035e+08     31.381405   \n",
       "min         5.000000      0.000065  0.000000e+00  0.000000e+00      0.000000   \n",
       "25%     10596.250000      0.207583  0.000000e+00  0.000000e+00     90.000000   \n",
       "50%     20669.000000      0.383856  0.000000e+00  0.000000e+00     99.000000   \n",
       "75%     75610.000000      0.713817  1.500000e+07  2.400000e+07    111.000000   \n",
       "max    417859.000000     32.985763  4.250000e+08  2.781506e+09    900.000000   \n",
       "\n",
       "         vote_count  vote_average  release_year    budget_adj   revenue_adj  \n",
       "count  10866.000000  10866.000000  10866.000000  1.086600e+04  1.086600e+04  \n",
       "mean     217.389748      5.974922   2001.322658  1.755104e+07  5.136436e+07  \n",
       "std      575.619058      0.935142     12.812941  3.430616e+07  1.446325e+08  \n",
       "min       10.000000      1.500000   1960.000000  0.000000e+00  0.000000e+00  \n",
       "25%       17.000000      5.400000   1995.000000  0.000000e+00  0.000000e+00  \n",
       "50%       38.000000      6.000000   2006.000000  0.000000e+00  0.000000e+00  \n",
       "75%      145.750000      6.600000   2011.000000  2.085325e+07  3.369710e+07  \n",
       "max     9767.000000      9.200000   2015.000000  4.250000e+08  2.827124e+09  "
      ]
     },
     "execution_count": 62,
     "metadata": {},
     "output_type": "execute_result"
    }
   ],
   "source": [
    "# Check basic information.\n",
    "\n",
    "data.describe()"
   ]
  },
  {
   "cell_type": "code",
   "execution_count": 63,
   "metadata": {},
   "outputs": [
    {
     "data": {
      "text/html": [
       "<div>\n",
       "<style scoped>\n",
       "    .dataframe tbody tr th:only-of-type {\n",
       "        vertical-align: middle;\n",
       "    }\n",
       "\n",
       "    .dataframe tbody tr th {\n",
       "        vertical-align: top;\n",
       "    }\n",
       "\n",
       "    .dataframe thead th {\n",
       "        text-align: right;\n",
       "    }\n",
       "</style>\n",
       "<table border=\"1\" class=\"dataframe\">\n",
       "  <thead>\n",
       "    <tr style=\"text-align: right;\">\n",
       "      <th></th>\n",
       "      <th>imdb_id</th>\n",
       "      <th>original_title</th>\n",
       "      <th>cast</th>\n",
       "      <th>homepage</th>\n",
       "      <th>director</th>\n",
       "      <th>tagline</th>\n",
       "      <th>keywords</th>\n",
       "      <th>overview</th>\n",
       "      <th>genres</th>\n",
       "      <th>production_companies</th>\n",
       "      <th>release_date</th>\n",
       "    </tr>\n",
       "  </thead>\n",
       "  <tbody>\n",
       "    <tr>\n",
       "      <th>count</th>\n",
       "      <td>10856</td>\n",
       "      <td>10866</td>\n",
       "      <td>10790</td>\n",
       "      <td>2936</td>\n",
       "      <td>10822</td>\n",
       "      <td>8042</td>\n",
       "      <td>9373</td>\n",
       "      <td>10862</td>\n",
       "      <td>10843</td>\n",
       "      <td>9836</td>\n",
       "      <td>10866</td>\n",
       "    </tr>\n",
       "    <tr>\n",
       "      <th>unique</th>\n",
       "      <td>10855</td>\n",
       "      <td>10571</td>\n",
       "      <td>10719</td>\n",
       "      <td>2896</td>\n",
       "      <td>5067</td>\n",
       "      <td>7997</td>\n",
       "      <td>8804</td>\n",
       "      <td>10847</td>\n",
       "      <td>2039</td>\n",
       "      <td>7445</td>\n",
       "      <td>5909</td>\n",
       "    </tr>\n",
       "    <tr>\n",
       "      <th>top</th>\n",
       "      <td>tt0411951</td>\n",
       "      <td>Hamlet</td>\n",
       "      <td>Louis C.K.</td>\n",
       "      <td>http://www.thehungergames.movie/</td>\n",
       "      <td>Woody Allen</td>\n",
       "      <td>Based on a true story.</td>\n",
       "      <td>woman director</td>\n",
       "      <td>No overview found.</td>\n",
       "      <td>Drama</td>\n",
       "      <td>Paramount Pictures</td>\n",
       "      <td>1/1/2009</td>\n",
       "    </tr>\n",
       "    <tr>\n",
       "      <th>freq</th>\n",
       "      <td>2</td>\n",
       "      <td>4</td>\n",
       "      <td>6</td>\n",
       "      <td>4</td>\n",
       "      <td>45</td>\n",
       "      <td>5</td>\n",
       "      <td>134</td>\n",
       "      <td>13</td>\n",
       "      <td>712</td>\n",
       "      <td>156</td>\n",
       "      <td>28</td>\n",
       "    </tr>\n",
       "  </tbody>\n",
       "</table>\n",
       "</div>"
      ],
      "text/plain": [
       "          imdb_id original_title        cast  \\\n",
       "count       10856          10866       10790   \n",
       "unique      10855          10571       10719   \n",
       "top     tt0411951         Hamlet  Louis C.K.   \n",
       "freq            2              4           6   \n",
       "\n",
       "                                homepage     director                 tagline  \\\n",
       "count                               2936        10822                    8042   \n",
       "unique                              2896         5067                    7997   \n",
       "top     http://www.thehungergames.movie/  Woody Allen  Based on a true story.   \n",
       "freq                                   4           45                       5   \n",
       "\n",
       "              keywords            overview genres production_companies  \\\n",
       "count             9373               10862  10843                 9836   \n",
       "unique            8804               10847   2039                 7445   \n",
       "top     woman director  No overview found.  Drama   Paramount Pictures   \n",
       "freq               134                  13    712                  156   \n",
       "\n",
       "       release_date  \n",
       "count         10866  \n",
       "unique         5909  \n",
       "top        1/1/2009  \n",
       "freq             28  "
      ]
     },
     "execution_count": 63,
     "metadata": {},
     "output_type": "execute_result"
    }
   ],
   "source": [
    "# Check with string values.\n",
    "\n",
    "data.describe(include = 'object')"
   ]
  },
  {
   "cell_type": "code",
   "execution_count": 64,
   "metadata": {},
   "outputs": [
    {
     "name": "stdout",
     "output_type": "stream",
     "text": [
      "<class 'pandas.core.frame.DataFrame'>\n",
      "RangeIndex: 10866 entries, 0 to 10865\n",
      "Data columns (total 21 columns):\n",
      "id                      10866 non-null int64\n",
      "imdb_id                 10856 non-null object\n",
      "popularity              10866 non-null float64\n",
      "budget                  10866 non-null int64\n",
      "revenue                 10866 non-null int64\n",
      "original_title          10866 non-null object\n",
      "cast                    10790 non-null object\n",
      "homepage                2936 non-null object\n",
      "director                10822 non-null object\n",
      "tagline                 8042 non-null object\n",
      "keywords                9373 non-null object\n",
      "overview                10862 non-null object\n",
      "runtime                 10866 non-null int64\n",
      "genres                  10843 non-null object\n",
      "production_companies    9836 non-null object\n",
      "release_date            10866 non-null object\n",
      "vote_count              10866 non-null int64\n",
      "vote_average            10866 non-null float64\n",
      "release_year            10866 non-null int64\n",
      "budget_adj              10866 non-null float64\n",
      "revenue_adj             10866 non-null float64\n",
      "dtypes: float64(4), int64(6), object(11)\n",
      "memory usage: 1.7+ MB\n"
     ]
    }
   ],
   "source": [
    "# Check column name and type.\n",
    "\n",
    "data.info()"
   ]
  },
  {
   "cell_type": "markdown",
   "metadata": {},
   "source": [
    "OBSERVATIONS:\n",
    "    \n",
    "    a. There are  major missing values in 'homepage', 'keywords', 'production_companies', 'taglines'.\n",
    "    \n",
    "    b. 'id', 'imdb_id', 'homepage', 'tagline', 'overview' are not relevent for this analysis, so we can drop this columns.\n",
    "    \n",
    "    c. 'cast', 'genres', 'director' has multivariables. Need to split this columns.\n",
    "    \n",
    "    d. Since there are missing values, needs to fill/drop.\n",
    "    \n",
    "    e. 'release_date' is not in proper format. Need to change to datetime format (YYYY/MM/DD).\n",
    "    \n",
    "\n",
    "DATA CLEANING:\n",
    "\n",
    "    STEPS:\n",
    "          \n",
    "          a. Dropping not relevent columns.\n",
    "          b. Dropping rows which have missing values.\n",
    "          c. Repalcing '0' values with their mean values.\n",
    "          d. Checking duplicate rows and droping it.\n",
    "          e. Changing the 'release_date' format to datetime format."
   ]
  },
  {
   "cell_type": "code",
   "execution_count": 65,
   "metadata": {},
   "outputs": [
    {
     "name": "stdout",
     "output_type": "stream",
     "text": [
      "Droping not relevent columns: ['id', 'imdb_id', 'homepage', 'tagline', 'overview']\n"
     ]
    },
    {
     "data": {
      "text/html": [
       "<div>\n",
       "<style scoped>\n",
       "    .dataframe tbody tr th:only-of-type {\n",
       "        vertical-align: middle;\n",
       "    }\n",
       "\n",
       "    .dataframe tbody tr th {\n",
       "        vertical-align: top;\n",
       "    }\n",
       "\n",
       "    .dataframe thead th {\n",
       "        text-align: right;\n",
       "    }\n",
       "</style>\n",
       "<table border=\"1\" class=\"dataframe\">\n",
       "  <thead>\n",
       "    <tr style=\"text-align: right;\">\n",
       "      <th></th>\n",
       "      <th>popularity</th>\n",
       "      <th>budget</th>\n",
       "      <th>revenue</th>\n",
       "      <th>original_title</th>\n",
       "      <th>cast</th>\n",
       "      <th>director</th>\n",
       "      <th>keywords</th>\n",
       "      <th>runtime</th>\n",
       "      <th>genres</th>\n",
       "      <th>production_companies</th>\n",
       "      <th>release_date</th>\n",
       "      <th>vote_count</th>\n",
       "      <th>vote_average</th>\n",
       "      <th>release_year</th>\n",
       "      <th>budget_adj</th>\n",
       "      <th>revenue_adj</th>\n",
       "    </tr>\n",
       "  </thead>\n",
       "  <tbody>\n",
       "    <tr>\n",
       "      <th>0</th>\n",
       "      <td>32.985763</td>\n",
       "      <td>150000000</td>\n",
       "      <td>1513528810</td>\n",
       "      <td>Jurassic World</td>\n",
       "      <td>Chris Pratt|Bryce Dallas Howard|Irrfan Khan|Vi...</td>\n",
       "      <td>Colin Trevorrow</td>\n",
       "      <td>monster|dna|tyrannosaurus rex|velociraptor|island</td>\n",
       "      <td>124</td>\n",
       "      <td>Action|Adventure|Science Fiction|Thriller</td>\n",
       "      <td>Universal Studios|Amblin Entertainment|Legenda...</td>\n",
       "      <td>6/9/2015</td>\n",
       "      <td>5562</td>\n",
       "      <td>6.5</td>\n",
       "      <td>2015</td>\n",
       "      <td>137999939.3</td>\n",
       "      <td>1.392446e+09</td>\n",
       "    </tr>\n",
       "    <tr>\n",
       "      <th>1</th>\n",
       "      <td>28.419936</td>\n",
       "      <td>150000000</td>\n",
       "      <td>378436354</td>\n",
       "      <td>Mad Max: Fury Road</td>\n",
       "      <td>Tom Hardy|Charlize Theron|Hugh Keays-Byrne|Nic...</td>\n",
       "      <td>George Miller</td>\n",
       "      <td>future|chase|post-apocalyptic|dystopia|australia</td>\n",
       "      <td>120</td>\n",
       "      <td>Action|Adventure|Science Fiction|Thriller</td>\n",
       "      <td>Village Roadshow Pictures|Kennedy Miller Produ...</td>\n",
       "      <td>5/13/2015</td>\n",
       "      <td>6185</td>\n",
       "      <td>7.1</td>\n",
       "      <td>2015</td>\n",
       "      <td>137999939.3</td>\n",
       "      <td>3.481613e+08</td>\n",
       "    </tr>\n",
       "    <tr>\n",
       "      <th>2</th>\n",
       "      <td>13.112507</td>\n",
       "      <td>110000000</td>\n",
       "      <td>295238201</td>\n",
       "      <td>Insurgent</td>\n",
       "      <td>Shailene Woodley|Theo James|Kate Winslet|Ansel...</td>\n",
       "      <td>Robert Schwentke</td>\n",
       "      <td>based on novel|revolution|dystopia|sequel|dyst...</td>\n",
       "      <td>119</td>\n",
       "      <td>Adventure|Science Fiction|Thriller</td>\n",
       "      <td>Summit Entertainment|Mandeville Films|Red Wago...</td>\n",
       "      <td>3/18/2015</td>\n",
       "      <td>2480</td>\n",
       "      <td>6.3</td>\n",
       "      <td>2015</td>\n",
       "      <td>101199955.5</td>\n",
       "      <td>2.716190e+08</td>\n",
       "    </tr>\n",
       "    <tr>\n",
       "      <th>3</th>\n",
       "      <td>11.173104</td>\n",
       "      <td>200000000</td>\n",
       "      <td>2068178225</td>\n",
       "      <td>Star Wars: The Force Awakens</td>\n",
       "      <td>Harrison Ford|Mark Hamill|Carrie Fisher|Adam D...</td>\n",
       "      <td>J.J. Abrams</td>\n",
       "      <td>android|spaceship|jedi|space opera|3d</td>\n",
       "      <td>136</td>\n",
       "      <td>Action|Adventure|Science Fiction|Fantasy</td>\n",
       "      <td>Lucasfilm|Truenorth Productions|Bad Robot</td>\n",
       "      <td>12/15/2015</td>\n",
       "      <td>5292</td>\n",
       "      <td>7.5</td>\n",
       "      <td>2015</td>\n",
       "      <td>183999919.0</td>\n",
       "      <td>1.902723e+09</td>\n",
       "    </tr>\n",
       "    <tr>\n",
       "      <th>4</th>\n",
       "      <td>9.335014</td>\n",
       "      <td>190000000</td>\n",
       "      <td>1506249360</td>\n",
       "      <td>Furious 7</td>\n",
       "      <td>Vin Diesel|Paul Walker|Jason Statham|Michelle ...</td>\n",
       "      <td>James Wan</td>\n",
       "      <td>car race|speed|revenge|suspense|car</td>\n",
       "      <td>137</td>\n",
       "      <td>Action|Crime|Thriller</td>\n",
       "      <td>Universal Pictures|Original Film|Media Rights ...</td>\n",
       "      <td>4/1/2015</td>\n",
       "      <td>2947</td>\n",
       "      <td>7.3</td>\n",
       "      <td>2015</td>\n",
       "      <td>174799923.1</td>\n",
       "      <td>1.385749e+09</td>\n",
       "    </tr>\n",
       "  </tbody>\n",
       "</table>\n",
       "</div>"
      ],
      "text/plain": [
       "   popularity     budget     revenue                original_title  \\\n",
       "0   32.985763  150000000  1513528810                Jurassic World   \n",
       "1   28.419936  150000000   378436354            Mad Max: Fury Road   \n",
       "2   13.112507  110000000   295238201                     Insurgent   \n",
       "3   11.173104  200000000  2068178225  Star Wars: The Force Awakens   \n",
       "4    9.335014  190000000  1506249360                     Furious 7   \n",
       "\n",
       "                                                cast          director  \\\n",
       "0  Chris Pratt|Bryce Dallas Howard|Irrfan Khan|Vi...   Colin Trevorrow   \n",
       "1  Tom Hardy|Charlize Theron|Hugh Keays-Byrne|Nic...     George Miller   \n",
       "2  Shailene Woodley|Theo James|Kate Winslet|Ansel...  Robert Schwentke   \n",
       "3  Harrison Ford|Mark Hamill|Carrie Fisher|Adam D...       J.J. Abrams   \n",
       "4  Vin Diesel|Paul Walker|Jason Statham|Michelle ...         James Wan   \n",
       "\n",
       "                                            keywords  runtime  \\\n",
       "0  monster|dna|tyrannosaurus rex|velociraptor|island      124   \n",
       "1   future|chase|post-apocalyptic|dystopia|australia      120   \n",
       "2  based on novel|revolution|dystopia|sequel|dyst...      119   \n",
       "3              android|spaceship|jedi|space opera|3d      136   \n",
       "4                car race|speed|revenge|suspense|car      137   \n",
       "\n",
       "                                      genres  \\\n",
       "0  Action|Adventure|Science Fiction|Thriller   \n",
       "1  Action|Adventure|Science Fiction|Thriller   \n",
       "2         Adventure|Science Fiction|Thriller   \n",
       "3   Action|Adventure|Science Fiction|Fantasy   \n",
       "4                      Action|Crime|Thriller   \n",
       "\n",
       "                                production_companies release_date  vote_count  \\\n",
       "0  Universal Studios|Amblin Entertainment|Legenda...     6/9/2015        5562   \n",
       "1  Village Roadshow Pictures|Kennedy Miller Produ...    5/13/2015        6185   \n",
       "2  Summit Entertainment|Mandeville Films|Red Wago...    3/18/2015        2480   \n",
       "3          Lucasfilm|Truenorth Productions|Bad Robot   12/15/2015        5292   \n",
       "4  Universal Pictures|Original Film|Media Rights ...     4/1/2015        2947   \n",
       "\n",
       "   vote_average  release_year   budget_adj   revenue_adj  \n",
       "0           6.5          2015  137999939.3  1.392446e+09  \n",
       "1           7.1          2015  137999939.3  3.481613e+08  \n",
       "2           6.3          2015  101199955.5  2.716190e+08  \n",
       "3           7.5          2015  183999919.0  1.902723e+09  \n",
       "4           7.3          2015  174799923.1  1.385749e+09  "
      ]
     },
     "execution_count": 65,
     "metadata": {},
     "output_type": "execute_result"
    }
   ],
   "source": [
    "# Drop columns which are not relevent.\n",
    "\n",
    "drop = ['id', 'imdb_id', 'homepage', 'tagline', 'overview']\n",
    "\n",
    "data.drop(drop, axis = 1, inplace = True)\n",
    "\n",
    "print(\"Droping not relevent columns:\", drop)\n",
    "\n",
    "data.head()"
   ]
  },
  {
   "cell_type": "code",
   "execution_count": 66,
   "metadata": {},
   "outputs": [
    {
     "data": {
      "text/plain": [
       "popularity                 0\n",
       "budget                  5696\n",
       "revenue                 6016\n",
       "original_title             0\n",
       "cast                       0\n",
       "director                   0\n",
       "keywords                   0\n",
       "runtime                   31\n",
       "genres                     0\n",
       "production_companies       0\n",
       "release_date               0\n",
       "vote_count                 0\n",
       "vote_average               0\n",
       "release_year               0\n",
       "budget_adj              5696\n",
       "revenue_adj             6016\n",
       "dtype: int64"
      ]
     },
     "execution_count": 66,
     "metadata": {},
     "output_type": "execute_result"
    }
   ],
   "source": [
    "# Check '0' values.\n",
    "\n",
    "data.isin([0]).sum()"
   ]
  },
  {
   "cell_type": "code",
   "execution_count": 67,
   "metadata": {},
   "outputs": [],
   "source": [
    "# Replacing '0' with mean values.\n",
    "\n",
    "data['budget'] = data['budget'].replace(0,data['budget'].mean())\n",
    "data['budget_adj'] = data['budget_adj'].replace(0,data['budget_adj'].mean())\n",
    "data['revenue'] = data['revenue'].replace(0,data['revenue'].mean())\n",
    "data['revenue_adj'] = data['revenue_adj'].replace(0,data['revenue_adj'].mean())\n",
    "data['runtime'] = data['runtime'].replace(0,data['runtime'].mean())"
   ]
  },
  {
   "cell_type": "code",
   "execution_count": 68,
   "metadata": {},
   "outputs": [
    {
     "data": {
      "text/plain": [
       "popularity              0\n",
       "budget                  0\n",
       "revenue                 0\n",
       "original_title          0\n",
       "cast                    0\n",
       "director                0\n",
       "keywords                0\n",
       "runtime                 0\n",
       "genres                  0\n",
       "production_companies    0\n",
       "release_date            0\n",
       "vote_count              0\n",
       "vote_average            0\n",
       "release_year            0\n",
       "budget_adj              0\n",
       "revenue_adj             0\n",
       "dtype: int64"
      ]
     },
     "execution_count": 68,
     "metadata": {},
     "output_type": "execute_result"
    }
   ],
   "source": [
    "# Rechecking '0' values.\n",
    "\n",
    "data.isin([0]).sum()"
   ]
  },
  {
   "cell_type": "code",
   "execution_count": 69,
   "metadata": {},
   "outputs": [
    {
     "data": {
      "text/plain": [
       "popularity                 0\n",
       "budget                     0\n",
       "revenue                    0\n",
       "original_title             0\n",
       "cast                      76\n",
       "director                  44\n",
       "keywords                1493\n",
       "runtime                    0\n",
       "genres                    23\n",
       "production_companies    1030\n",
       "release_date               0\n",
       "vote_count                 0\n",
       "vote_average               0\n",
       "release_year               0\n",
       "budget_adj                 0\n",
       "revenue_adj                0\n",
       "dtype: int64"
      ]
     },
     "execution_count": 69,
     "metadata": {},
     "output_type": "execute_result"
    }
   ],
   "source": [
    "# Chech \"NAh\" mising values.\n",
    "\n",
    "data.isna().sum()"
   ]
  },
  {
   "cell_type": "code",
   "execution_count": 70,
   "metadata": {},
   "outputs": [],
   "source": [
    "# Droping \"NAh\" values.\n",
    "\n",
    "data = data.dropna()"
   ]
  },
  {
   "cell_type": "code",
   "execution_count": 71,
   "metadata": {},
   "outputs": [
    {
     "data": {
      "text/plain": [
       "popularity              0\n",
       "budget                  0\n",
       "revenue                 0\n",
       "original_title          0\n",
       "cast                    0\n",
       "director                0\n",
       "keywords                0\n",
       "runtime                 0\n",
       "genres                  0\n",
       "production_companies    0\n",
       "release_date            0\n",
       "vote_count              0\n",
       "vote_average            0\n",
       "release_year            0\n",
       "budget_adj              0\n",
       "revenue_adj             0\n",
       "dtype: int64"
      ]
     },
     "execution_count": 71,
     "metadata": {},
     "output_type": "execute_result"
    }
   ],
   "source": [
    "# Rechecking 'NAh' values.\n",
    "\n",
    "data.isna().sum()"
   ]
  },
  {
   "cell_type": "code",
   "execution_count": 72,
   "metadata": {},
   "outputs": [
    {
     "name": "stdout",
     "output_type": "stream",
     "text": [
      " After droping NAh values, this data set contains 8667 rows and 16 columns. (8667, 16)\n"
     ]
    },
    {
     "data": {
      "text/plain": [
       "(8667, 16)"
      ]
     },
     "execution_count": 72,
     "metadata": {},
     "output_type": "execute_result"
    }
   ],
   "source": [
    "# Rechecking the shape.\n",
    "\n",
    "print(' After droping NAh values, this data set contains 8667 rows and 16 columns.', data.shape)\n",
    "\n",
    "data.shape"
   ]
  },
  {
   "cell_type": "code",
   "execution_count": 73,
   "metadata": {},
   "outputs": [
    {
     "data": {
      "text/plain": [
       "1"
      ]
     },
     "execution_count": 73,
     "metadata": {},
     "output_type": "execute_result"
    }
   ],
   "source": [
    "# Check duplicate values.\n",
    "\n",
    "sum(data.duplicated())"
   ]
  },
  {
   "cell_type": "code",
   "execution_count": 74,
   "metadata": {},
   "outputs": [],
   "source": [
    "# Drop duplicate value.\n",
    "\n",
    "data = data.drop_duplicates()"
   ]
  },
  {
   "cell_type": "code",
   "execution_count": 75,
   "metadata": {},
   "outputs": [
    {
     "name": "stdout",
     "output_type": "stream",
     "text": [
      " After droping duplicate values, this data set contains 8666 rows and 16 columns. (8666, 16)\n"
     ]
    },
    {
     "data": {
      "text/plain": [
       "(8666, 16)"
      ]
     },
     "execution_count": 75,
     "metadata": {},
     "output_type": "execute_result"
    }
   ],
   "source": [
    "# Rechecking the shape.\n",
    "\n",
    "print(' After droping duplicate values, this data set contains 8666 rows and 16 columns.', data.shape)\n",
    "\n",
    "data.shape"
   ]
  },
  {
   "cell_type": "code",
   "execution_count": 76,
   "metadata": {},
   "outputs": [],
   "source": [
    "# Change format.\n",
    "\n",
    "data['release_date'] = pd.to_datetime(data['release_date'], errors = 'ignore')"
   ]
  },
  {
   "cell_type": "code",
   "execution_count": 77,
   "metadata": {},
   "outputs": [
    {
     "name": "stdout",
     "output_type": "stream",
     "text": [
      "<class 'pandas.core.frame.DataFrame'>\n",
      "Int64Index: 8666 entries, 0 to 10865\n",
      "Data columns (total 16 columns):\n",
      "popularity              8666 non-null float64\n",
      "budget                  8666 non-null float64\n",
      "revenue                 8666 non-null float64\n",
      "original_title          8666 non-null object\n",
      "cast                    8666 non-null object\n",
      "director                8666 non-null object\n",
      "keywords                8666 non-null object\n",
      "runtime                 8666 non-null float64\n",
      "genres                  8666 non-null object\n",
      "production_companies    8666 non-null object\n",
      "release_date            8666 non-null datetime64[ns]\n",
      "vote_count              8666 non-null int64\n",
      "vote_average            8666 non-null float64\n",
      "release_year            8666 non-null int64\n",
      "budget_adj              8666 non-null float64\n",
      "revenue_adj             8666 non-null float64\n",
      "dtypes: datetime64[ns](1), float64(7), int64(2), object(6)\n",
      "memory usage: 1.1+ MB\n"
     ]
    }
   ],
   "source": [
    "# Rechecking column name and type.\n",
    "\n",
    "data.info()"
   ]
  },
  {
   "cell_type": "code",
   "execution_count": 78,
   "metadata": {},
   "outputs": [
    {
     "data": {
      "text/plain": [
       "array([[<matplotlib.axes._subplots.AxesSubplot object at 0x000000000D86BDD8>,\n",
       "        <matplotlib.axes._subplots.AxesSubplot object at 0x000000000BB90A58>,\n",
       "        <matplotlib.axes._subplots.AxesSubplot object at 0x000000000BB56978>],\n",
       "       [<matplotlib.axes._subplots.AxesSubplot object at 0x000000000D06D080>,\n",
       "        <matplotlib.axes._subplots.AxesSubplot object at 0x000000000CF0BCC0>,\n",
       "        <matplotlib.axes._subplots.AxesSubplot object at 0x000000000CF0BFD0>],\n",
       "       [<matplotlib.axes._subplots.AxesSubplot object at 0x000000000B6012E8>,\n",
       "        <matplotlib.axes._subplots.AxesSubplot object at 0x000000000B541B70>,\n",
       "        <matplotlib.axes._subplots.AxesSubplot object at 0x000000000B56B4E0>]],\n",
       "      dtype=object)"
      ]
     },
     "execution_count": 78,
     "metadata": {},
     "output_type": "execute_result"
    },
    {
     "data": {
      "image/png": "[encoded data removed]",
      "text/plain": [
       "<Figure size 648x648 with 9 Axes>"
      ]
     },
     "metadata": {
      "needs_background": "light"
     },
     "output_type": "display_data"
    }
   ],
   "source": [
    "# Ploting histrogram.\n",
    "\n",
    "data.hist(figsize=(9,9))"
   ]
  },
  {
   "cell_type": "markdown",
   "metadata": {},
   "source": [
    "By looking at this chart, we can say that movie 'release_year' is increasing over years.\n",
    "And highest  average 'vote_average' count is between 5-7."
   ]
  },
  {
   "cell_type": "markdown",
   "metadata": {},
   "source": [
    "EXPLORATORY DATA ANALYSIS:\n",
    "\n",
    "    Let's start with exploratory data part."
   ]
  },
  {
   "cell_type": "markdown",
   "metadata": {},
   "source": [
    "Question 1:\n",
    "\n",
    "1. Which genre has the highest movie releases?"
   ]
  },
  {
   "cell_type": "code",
   "execution_count": 79,
   "metadata": {},
   "outputs": [
    {
     "name": "stdout",
     "output_type": "stream",
     "text": [
      "Frequently Used Genres In Movies Are: \n"
     ]
    },
    {
     "data": {
      "text/plain": [
       "Drama              3934\n",
       "Comedy             3050\n",
       "Thriller           2462\n",
       "Action             2022\n",
       "Romance            1415\n",
       "Horror             1339\n",
       "Adventure          1271\n",
       "Crime              1200\n",
       "Science Fiction    1028\n",
       "Family              946\n",
       "Fantasy             763\n",
       "Mystery             703\n",
       "Animation           512\n",
       "Music               309\n",
       "History             287\n",
       "Documentary         270\n",
       "dtype: int64"
      ]
     },
     "execution_count": 79,
     "metadata": {},
     "output_type": "execute_result"
    }
   ],
   "source": [
    "# Splitting genres and plotting using bar chart.\n",
    "# Create function:\n",
    "\n",
    "def Frequent(name, size):\n",
    "    new_data = data[name].str.cat(sep ='|').split('|')\n",
    "    new_data = pd.Series(new_data).value_counts()[:size]\n",
    "    return new_data\n",
    "\n",
    "print(\"Frequently Used Genres In Movies Are: \")\n",
    "\n",
    "highest = Frequent ('genres', 16)\n",
    "highest"
   ]
  },
  {
   "cell_type": "code",
   "execution_count": 80,
   "metadata": {},
   "outputs": [
    {
     "data": {
      "image/png": "[encoded data removed]",
      "text/plain": [
       "<Figure size 576x576 with 1 Axes>"
      ]
     },
     "metadata": {
      "needs_background": "light"
     },
     "output_type": "display_data"
    }
   ],
   "source": [
    "# Plotting using bar chart.\n",
    "\n",
    "highest.plot(kind='bar', figsize=(8,8), color = 'blue')\n",
    "plt.title('Frequently_Used_Genres_In_Movies[1959-2015]')\n",
    "plt.xlabel(\"Genres\") \n",
    "plt.ylabel(\"Movie_Count\") \n",
    "plt.grid(True)"
   ]
  },
  {
   "cell_type": "markdown",
   "metadata": {},
   "source": [
    "According to the chart, Drama has the highest number of movies release followed by Comedy and Thriller."
   ]
  },
  {
   "cell_type": "markdown",
   "metadata": {},
   "source": [
    "Question 2:\n",
    "\n",
    "2. With respect to vote counts:\n",
    "\n",
    "    2.a. Which are the Top 5 Movies ?\n",
    "    \n",
    "    2.b. Who are the Top 5 actors ?\n",
    "    \n",
    "    2.c. Who are the Top 5 directors ?"
   ]
  },
  {
   "cell_type": "code",
   "execution_count": 81,
   "metadata": {},
   "outputs": [
    {
     "name": "stdout",
     "output_type": "stream",
     "text": [
      "Top Five Movies, Actor, Director With Respect To Vote_Count Are:\n"
     ]
    },
    {
     "data": {
      "text/html": [
       "<div>\n",
       "<style scoped>\n",
       "    .dataframe tbody tr th:only-of-type {\n",
       "        vertical-align: middle;\n",
       "    }\n",
       "\n",
       "    .dataframe tbody tr th {\n",
       "        vertical-align: top;\n",
       "    }\n",
       "\n",
       "    .dataframe thead th {\n",
       "        text-align: right;\n",
       "    }\n",
       "</style>\n",
       "<table border=\"1\" class=\"dataframe\">\n",
       "  <thead>\n",
       "    <tr style=\"text-align: right;\">\n",
       "      <th></th>\n",
       "      <th>vote_count</th>\n",
       "      <th>original_title</th>\n",
       "      <th>cast</th>\n",
       "      <th>director</th>\n",
       "      <th>popularity</th>\n",
       "      <th>budget</th>\n",
       "      <th>revenue</th>\n",
       "      <th>runtime</th>\n",
       "      <th>vote_average</th>\n",
       "      <th>release_year</th>\n",
       "      <th>budget_adj</th>\n",
       "      <th>revenue_adj</th>\n",
       "    </tr>\n",
       "  </thead>\n",
       "  <tbody>\n",
       "    <tr>\n",
       "      <th>8665</th>\n",
       "      <td>9767</td>\n",
       "      <td>Inception</td>\n",
       "      <td>Leonardo DiCaprio|Joseph Gordon-Levitt|Ellen P...</td>\n",
       "      <td>Christopher Nolan</td>\n",
       "      <td>9.363643</td>\n",
       "      <td>160000000.0</td>\n",
       "      <td>8.255000e+08</td>\n",
       "      <td>148.0</td>\n",
       "      <td>7.9</td>\n",
       "      <td>2010</td>\n",
       "      <td>1.600000e+08</td>\n",
       "      <td>8.255000e+08</td>\n",
       "    </tr>\n",
       "    <tr>\n",
       "      <th>8664</th>\n",
       "      <td>8903</td>\n",
       "      <td>The Avengers</td>\n",
       "      <td>Robert Downey Jr.|Chris Evans|Mark Ruffalo|Chr...</td>\n",
       "      <td>Joss Whedon</td>\n",
       "      <td>7.637767</td>\n",
       "      <td>220000000.0</td>\n",
       "      <td>1.519558e+09</td>\n",
       "      <td>143.0</td>\n",
       "      <td>7.3</td>\n",
       "      <td>2012</td>\n",
       "      <td>2.089437e+08</td>\n",
       "      <td>1.443191e+09</td>\n",
       "    </tr>\n",
       "    <tr>\n",
       "      <th>8663</th>\n",
       "      <td>8458</td>\n",
       "      <td>Avatar</td>\n",
       "      <td>Sam Worthington|Zoe Saldana|Sigourney Weaver|S...</td>\n",
       "      <td>James Cameron</td>\n",
       "      <td>9.432768</td>\n",
       "      <td>237000000.0</td>\n",
       "      <td>2.781506e+09</td>\n",
       "      <td>162.0</td>\n",
       "      <td>7.1</td>\n",
       "      <td>2009</td>\n",
       "      <td>2.408869e+08</td>\n",
       "      <td>2.827124e+09</td>\n",
       "    </tr>\n",
       "    <tr>\n",
       "      <th>8662</th>\n",
       "      <td>8432</td>\n",
       "      <td>The Dark Knight</td>\n",
       "      <td>Christian Bale|Michael Caine|Heath Ledger|Aaro...</td>\n",
       "      <td>Christopher Nolan</td>\n",
       "      <td>8.466668</td>\n",
       "      <td>185000000.0</td>\n",
       "      <td>1.001922e+09</td>\n",
       "      <td>152.0</td>\n",
       "      <td>8.1</td>\n",
       "      <td>2008</td>\n",
       "      <td>1.873655e+08</td>\n",
       "      <td>1.014733e+09</td>\n",
       "    </tr>\n",
       "    <tr>\n",
       "      <th>8661</th>\n",
       "      <td>7375</td>\n",
       "      <td>Django Unchained</td>\n",
       "      <td>Jamie Foxx|Christoph Waltz|Leonardo DiCaprio|K...</td>\n",
       "      <td>Quentin Tarantino</td>\n",
       "      <td>5.944518</td>\n",
       "      <td>100000000.0</td>\n",
       "      <td>4.253682e+08</td>\n",
       "      <td>165.0</td>\n",
       "      <td>7.7</td>\n",
       "      <td>2012</td>\n",
       "      <td>9.497443e+07</td>\n",
       "      <td>4.039911e+08</td>\n",
       "    </tr>\n",
       "  </tbody>\n",
       "</table>\n",
       "</div>"
      ],
      "text/plain": [
       "      vote_count    original_title  \\\n",
       "8665        9767         Inception   \n",
       "8664        8903      The Avengers   \n",
       "8663        8458            Avatar   \n",
       "8662        8432   The Dark Knight   \n",
       "8661        7375  Django Unchained   \n",
       "\n",
       "                                                   cast           director  \\\n",
       "8665  Leonardo DiCaprio|Joseph Gordon-Levitt|Ellen P...  Christopher Nolan   \n",
       "8664  Robert Downey Jr.|Chris Evans|Mark Ruffalo|Chr...        Joss Whedon   \n",
       "8663  Sam Worthington|Zoe Saldana|Sigourney Weaver|S...      James Cameron   \n",
       "8662  Christian Bale|Michael Caine|Heath Ledger|Aaro...  Christopher Nolan   \n",
       "8661  Jamie Foxx|Christoph Waltz|Leonardo DiCaprio|K...  Quentin Tarantino   \n",
       "\n",
       "      popularity       budget       revenue  runtime  vote_average  \\\n",
       "8665    9.363643  160000000.0  8.255000e+08    148.0           7.9   \n",
       "8664    7.637767  220000000.0  1.519558e+09    143.0           7.3   \n",
       "8663    9.432768  237000000.0  2.781506e+09    162.0           7.1   \n",
       "8662    8.466668  185000000.0  1.001922e+09    152.0           8.1   \n",
       "8661    5.944518  100000000.0  4.253682e+08    165.0           7.7   \n",
       "\n",
       "      release_year    budget_adj   revenue_adj  \n",
       "8665          2010  1.600000e+08  8.255000e+08  \n",
       "8664          2012  2.089437e+08  1.443191e+09  \n",
       "8663          2009  2.408869e+08  2.827124e+09  \n",
       "8662          2008  1.873655e+08  1.014733e+09  \n",
       "8661          2012  9.497443e+07  4.039911e+08  "
      ]
     },
     "execution_count": 81,
     "metadata": {},
     "output_type": "execute_result"
    }
   ],
   "source": [
    "print(\"Top Five Movies, Actor, Director With Respect To Vote_Count Are:\")\n",
    "\n",
    "top_values = data.groupby(['vote_count','original_title','cast', 'director'], as_index=False).mean().sort_values(['vote_count'], ascending = False)[:5]\n",
    "top_values"
   ]
  },
  {
   "cell_type": "code",
   "execution_count": 82,
   "metadata": {},
   "outputs": [
    {
     "name": "stdout",
     "output_type": "stream",
     "text": [
      "TOP 5 Movies With Highest Votes are: \n"
     ]
    },
    {
     "data": {
      "text/html": [
       "<div>\n",
       "<style scoped>\n",
       "    .dataframe tbody tr th:only-of-type {\n",
       "        vertical-align: middle;\n",
       "    }\n",
       "\n",
       "    .dataframe tbody tr th {\n",
       "        vertical-align: top;\n",
       "    }\n",
       "\n",
       "    .dataframe thead th {\n",
       "        text-align: right;\n",
       "    }\n",
       "</style>\n",
       "<table border=\"1\" class=\"dataframe\">\n",
       "  <thead>\n",
       "    <tr style=\"text-align: right;\">\n",
       "      <th></th>\n",
       "      <th>vote_count</th>\n",
       "      <th>original_title</th>\n",
       "      <th>popularity</th>\n",
       "      <th>budget</th>\n",
       "      <th>revenue</th>\n",
       "      <th>runtime</th>\n",
       "      <th>vote_average</th>\n",
       "      <th>release_year</th>\n",
       "      <th>budget_adj</th>\n",
       "      <th>revenue_adj</th>\n",
       "    </tr>\n",
       "  </thead>\n",
       "  <tbody>\n",
       "    <tr>\n",
       "      <th>8662</th>\n",
       "      <td>9767</td>\n",
       "      <td>Inception</td>\n",
       "      <td>9.363643</td>\n",
       "      <td>160000000.0</td>\n",
       "      <td>8.255000e+08</td>\n",
       "      <td>148.0</td>\n",
       "      <td>7.9</td>\n",
       "      <td>2010.0</td>\n",
       "      <td>1.600000e+08</td>\n",
       "      <td>8.255000e+08</td>\n",
       "    </tr>\n",
       "    <tr>\n",
       "      <th>8661</th>\n",
       "      <td>8903</td>\n",
       "      <td>The Avengers</td>\n",
       "      <td>7.637767</td>\n",
       "      <td>220000000.0</td>\n",
       "      <td>1.519558e+09</td>\n",
       "      <td>143.0</td>\n",
       "      <td>7.3</td>\n",
       "      <td>2012.0</td>\n",
       "      <td>2.089437e+08</td>\n",
       "      <td>1.443191e+09</td>\n",
       "    </tr>\n",
       "    <tr>\n",
       "      <th>8660</th>\n",
       "      <td>8458</td>\n",
       "      <td>Avatar</td>\n",
       "      <td>9.432768</td>\n",
       "      <td>237000000.0</td>\n",
       "      <td>2.781506e+09</td>\n",
       "      <td>162.0</td>\n",
       "      <td>7.1</td>\n",
       "      <td>2009.0</td>\n",
       "      <td>2.408869e+08</td>\n",
       "      <td>2.827124e+09</td>\n",
       "    </tr>\n",
       "    <tr>\n",
       "      <th>8659</th>\n",
       "      <td>8432</td>\n",
       "      <td>The Dark Knight</td>\n",
       "      <td>8.466668</td>\n",
       "      <td>185000000.0</td>\n",
       "      <td>1.001922e+09</td>\n",
       "      <td>152.0</td>\n",
       "      <td>8.1</td>\n",
       "      <td>2008.0</td>\n",
       "      <td>1.873655e+08</td>\n",
       "      <td>1.014733e+09</td>\n",
       "    </tr>\n",
       "    <tr>\n",
       "      <th>8658</th>\n",
       "      <td>7375</td>\n",
       "      <td>Django Unchained</td>\n",
       "      <td>5.944518</td>\n",
       "      <td>100000000.0</td>\n",
       "      <td>4.253682e+08</td>\n",
       "      <td>165.0</td>\n",
       "      <td>7.7</td>\n",
       "      <td>2012.0</td>\n",
       "      <td>9.497443e+07</td>\n",
       "      <td>4.039911e+08</td>\n",
       "    </tr>\n",
       "  </tbody>\n",
       "</table>\n",
       "</div>"
      ],
      "text/plain": [
       "      vote_count    original_title  popularity       budget       revenue  \\\n",
       "8662        9767         Inception    9.363643  160000000.0  8.255000e+08   \n",
       "8661        8903      The Avengers    7.637767  220000000.0  1.519558e+09   \n",
       "8660        8458            Avatar    9.432768  237000000.0  2.781506e+09   \n",
       "8659        8432   The Dark Knight    8.466668  185000000.0  1.001922e+09   \n",
       "8658        7375  Django Unchained    5.944518  100000000.0  4.253682e+08   \n",
       "\n",
       "      runtime  vote_average  release_year    budget_adj   revenue_adj  \n",
       "8662    148.0           7.9        2010.0  1.600000e+08  8.255000e+08  \n",
       "8661    143.0           7.3        2012.0  2.089437e+08  1.443191e+09  \n",
       "8660    162.0           7.1        2009.0  2.408869e+08  2.827124e+09  \n",
       "8659    152.0           8.1        2008.0  1.873655e+08  1.014733e+09  \n",
       "8658    165.0           7.7        2012.0  9.497443e+07  4.039911e+08  "
      ]
     },
     "execution_count": 82,
     "metadata": {},
     "output_type": "execute_result"
    }
   ],
   "source": [
    "# 2.a. Which are the Top 5 Movies ?\n",
    "\n",
    "print(\"TOP 5 Movies With Highest Votes are: \")\n",
    "\n",
    "top_movie = data.groupby(['vote_count','original_title'], as_index=False).mean().sort_values(['vote_count'], ascending = False)[:5]\n",
    "top_movie"
   ]
  },
  {
   "cell_type": "code",
   "execution_count": 83,
   "metadata": {},
   "outputs": [
    {
     "data": {
      "image/png": "[encoded data removed]",
      "text/plain": [
       "<Figure size 432x288 with 1 Axes>"
      ]
     },
     "metadata": {
      "needs_background": "light"
     },
     "output_type": "display_data"
    }
   ],
   "source": [
    "# Plotting TOP 5 Movies With Highest Votes:\n",
    "\n",
    "plt.bar(top_movie['original_title'], top_movie['vote_count'])\n",
    "plt.xticks(rotation=90)\n",
    "plt.title('TOP 5 Movies_With_Highest_Vote[1959-2015]')\n",
    "plt.xlabel(\"Movies\",fontsize = 12) \n",
    "plt.ylabel(\"Vote_Count\",fontsize = 12) \n",
    "plt.grid(True)"
   ]
  },
  {
   "cell_type": "code",
   "execution_count": 84,
   "metadata": {},
   "outputs": [
    {
     "name": "stdout",
     "output_type": "stream",
     "text": [
      "TOP 5 Actors With Highest Votes are: \n"
     ]
    },
    {
     "data": {
      "text/html": [
       "<div>\n",
       "<style scoped>\n",
       "    .dataframe tbody tr th:only-of-type {\n",
       "        vertical-align: middle;\n",
       "    }\n",
       "\n",
       "    .dataframe tbody tr th {\n",
       "        vertical-align: top;\n",
       "    }\n",
       "\n",
       "    .dataframe thead th {\n",
       "        text-align: right;\n",
       "    }\n",
       "</style>\n",
       "<table border=\"1\" class=\"dataframe\">\n",
       "  <thead>\n",
       "    <tr style=\"text-align: right;\">\n",
       "      <th></th>\n",
       "      <th>vote_count</th>\n",
       "      <th>cast</th>\n",
       "      <th>popularity</th>\n",
       "      <th>budget</th>\n",
       "      <th>revenue</th>\n",
       "      <th>runtime</th>\n",
       "      <th>vote_average</th>\n",
       "      <th>release_year</th>\n",
       "      <th>budget_adj</th>\n",
       "      <th>revenue_adj</th>\n",
       "    </tr>\n",
       "  </thead>\n",
       "  <tbody>\n",
       "    <tr>\n",
       "      <th>8475</th>\n",
       "      <td>9767</td>\n",
       "      <td>Leonardo DiCaprio</td>\n",
       "      <td>9.363643</td>\n",
       "      <td>160000000.0</td>\n",
       "      <td>8.255000e+08</td>\n",
       "      <td>148.0</td>\n",
       "      <td>7.9</td>\n",
       "      <td>2010.0</td>\n",
       "      <td>1.600000e+08</td>\n",
       "      <td>8.255000e+08</td>\n",
       "    </tr>\n",
       "    <tr>\n",
       "      <th>8474</th>\n",
       "      <td>8903</td>\n",
       "      <td>Robert Downey Jr.</td>\n",
       "      <td>7.637767</td>\n",
       "      <td>220000000.0</td>\n",
       "      <td>1.519558e+09</td>\n",
       "      <td>143.0</td>\n",
       "      <td>7.3</td>\n",
       "      <td>2012.0</td>\n",
       "      <td>2.089437e+08</td>\n",
       "      <td>1.443191e+09</td>\n",
       "    </tr>\n",
       "    <tr>\n",
       "      <th>8473</th>\n",
       "      <td>8458</td>\n",
       "      <td>Sam Worthington</td>\n",
       "      <td>9.432768</td>\n",
       "      <td>237000000.0</td>\n",
       "      <td>2.781506e+09</td>\n",
       "      <td>162.0</td>\n",
       "      <td>7.1</td>\n",
       "      <td>2009.0</td>\n",
       "      <td>2.408869e+08</td>\n",
       "      <td>2.827124e+09</td>\n",
       "    </tr>\n",
       "    <tr>\n",
       "      <th>8472</th>\n",
       "      <td>8432</td>\n",
       "      <td>Christian Bale</td>\n",
       "      <td>8.466668</td>\n",
       "      <td>185000000.0</td>\n",
       "      <td>1.001922e+09</td>\n",
       "      <td>152.0</td>\n",
       "      <td>8.1</td>\n",
       "      <td>2008.0</td>\n",
       "      <td>1.873655e+08</td>\n",
       "      <td>1.014733e+09</td>\n",
       "    </tr>\n",
       "    <tr>\n",
       "      <th>8471</th>\n",
       "      <td>7375</td>\n",
       "      <td>Jamie Foxx</td>\n",
       "      <td>5.944518</td>\n",
       "      <td>100000000.0</td>\n",
       "      <td>4.253682e+08</td>\n",
       "      <td>165.0</td>\n",
       "      <td>7.7</td>\n",
       "      <td>2012.0</td>\n",
       "      <td>9.497443e+07</td>\n",
       "      <td>4.039911e+08</td>\n",
       "    </tr>\n",
       "  </tbody>\n",
       "</table>\n",
       "</div>"
      ],
      "text/plain": [
       "      vote_count               cast  popularity       budget       revenue  \\\n",
       "8475        9767  Leonardo DiCaprio    9.363643  160000000.0  8.255000e+08   \n",
       "8474        8903  Robert Downey Jr.    7.637767  220000000.0  1.519558e+09   \n",
       "8473        8458    Sam Worthington    9.432768  237000000.0  2.781506e+09   \n",
       "8472        8432     Christian Bale    8.466668  185000000.0  1.001922e+09   \n",
       "8471        7375         Jamie Foxx    5.944518  100000000.0  4.253682e+08   \n",
       "\n",
       "      runtime  vote_average  release_year    budget_adj   revenue_adj  \n",
       "8475    148.0           7.9        2010.0  1.600000e+08  8.255000e+08  \n",
       "8474    143.0           7.3        2012.0  2.089437e+08  1.443191e+09  \n",
       "8473    162.0           7.1        2009.0  2.408869e+08  2.827124e+09  \n",
       "8472    152.0           8.1        2008.0  1.873655e+08  1.014733e+09  \n",
       "8471    165.0           7.7        2012.0  9.497443e+07  4.039911e+08  "
      ]
     },
     "execution_count": 84,
     "metadata": {},
     "output_type": "execute_result"
    }
   ],
   "source": [
    "# 2.b. Who are the Top 5 actors ?\n",
    "\n",
    "hybrid = data[data['cast'].str.contains('|')]\n",
    "\n",
    "d = hybrid.copy()  \n",
    "\n",
    "split_column = ['cast']\n",
    "\n",
    "for ele in split_column:\n",
    "    d[ele] = d[ele].apply(lambda x: x.split(\"|\")[0])\n",
    "\n",
    "print(\"TOP 5 Actors With Highest Votes are: \")\n",
    "\n",
    "top_cast = d.groupby(['vote_count','cast'], as_index=False).mean().sort_values(['vote_count'], ascending = False)[:5]\n",
    "top_cast"
   ]
  },
  {
   "cell_type": "code",
   "execution_count": 85,
   "metadata": {},
   "outputs": [
    {
     "data": {
      "image/png": "[encoded data removed]",
      "text/plain": [
       "<Figure size 432x288 with 1 Axes>"
      ]
     },
     "metadata": {
      "needs_background": "light"
     },
     "output_type": "display_data"
    }
   ],
   "source": [
    "# Plotting TOP 5 Actors With Highest Votes:\n",
    "\n",
    "plt.bar(top_cast['cast'], top_cast['vote_count'])\n",
    "plt.xticks(rotation=90)\n",
    "plt.title('TOP 5 Cast_With_Highest_Vote[1959-2015]')\n",
    "plt.xlabel(\"Actors\",fontsize = 12) \n",
    "plt.ylabel(\"Movie_Vote_Count\",fontsize = 12) \n",
    "plt.grid(True)"
   ]
  },
  {
   "cell_type": "code",
   "execution_count": 86,
   "metadata": {},
   "outputs": [
    {
     "name": "stdout",
     "output_type": "stream",
     "text": [
      "TOP 5 Directors With Highest Votes are: \n"
     ]
    },
    {
     "data": {
      "text/html": [
       "<div>\n",
       "<style scoped>\n",
       "    .dataframe tbody tr th:only-of-type {\n",
       "        vertical-align: middle;\n",
       "    }\n",
       "\n",
       "    .dataframe tbody tr th {\n",
       "        vertical-align: top;\n",
       "    }\n",
       "\n",
       "    .dataframe thead th {\n",
       "        text-align: right;\n",
       "    }\n",
       "</style>\n",
       "<table border=\"1\" class=\"dataframe\">\n",
       "  <thead>\n",
       "    <tr style=\"text-align: right;\">\n",
       "      <th></th>\n",
       "      <th>vote_count</th>\n",
       "      <th>director</th>\n",
       "      <th>popularity</th>\n",
       "      <th>budget</th>\n",
       "      <th>revenue</th>\n",
       "      <th>runtime</th>\n",
       "      <th>vote_average</th>\n",
       "      <th>release_year</th>\n",
       "      <th>budget_adj</th>\n",
       "      <th>revenue_adj</th>\n",
       "    </tr>\n",
       "  </thead>\n",
       "  <tbody>\n",
       "    <tr>\n",
       "      <th>8521</th>\n",
       "      <td>9767</td>\n",
       "      <td>Christopher Nolan</td>\n",
       "      <td>9.363643</td>\n",
       "      <td>160000000.0</td>\n",
       "      <td>8.255000e+08</td>\n",
       "      <td>148.0</td>\n",
       "      <td>7.9</td>\n",
       "      <td>2010.0</td>\n",
       "      <td>1.600000e+08</td>\n",
       "      <td>8.255000e+08</td>\n",
       "    </tr>\n",
       "    <tr>\n",
       "      <th>8520</th>\n",
       "      <td>8903</td>\n",
       "      <td>Joss Whedon</td>\n",
       "      <td>7.637767</td>\n",
       "      <td>220000000.0</td>\n",
       "      <td>1.519558e+09</td>\n",
       "      <td>143.0</td>\n",
       "      <td>7.3</td>\n",
       "      <td>2012.0</td>\n",
       "      <td>2.089437e+08</td>\n",
       "      <td>1.443191e+09</td>\n",
       "    </tr>\n",
       "    <tr>\n",
       "      <th>8519</th>\n",
       "      <td>8458</td>\n",
       "      <td>James Cameron</td>\n",
       "      <td>9.432768</td>\n",
       "      <td>237000000.0</td>\n",
       "      <td>2.781506e+09</td>\n",
       "      <td>162.0</td>\n",
       "      <td>7.1</td>\n",
       "      <td>2009.0</td>\n",
       "      <td>2.408869e+08</td>\n",
       "      <td>2.827124e+09</td>\n",
       "    </tr>\n",
       "    <tr>\n",
       "      <th>8518</th>\n",
       "      <td>8432</td>\n",
       "      <td>Christopher Nolan</td>\n",
       "      <td>8.466668</td>\n",
       "      <td>185000000.0</td>\n",
       "      <td>1.001922e+09</td>\n",
       "      <td>152.0</td>\n",
       "      <td>8.1</td>\n",
       "      <td>2008.0</td>\n",
       "      <td>1.873655e+08</td>\n",
       "      <td>1.014733e+09</td>\n",
       "    </tr>\n",
       "    <tr>\n",
       "      <th>8517</th>\n",
       "      <td>7375</td>\n",
       "      <td>Quentin Tarantino</td>\n",
       "      <td>5.944518</td>\n",
       "      <td>100000000.0</td>\n",
       "      <td>4.253682e+08</td>\n",
       "      <td>165.0</td>\n",
       "      <td>7.7</td>\n",
       "      <td>2012.0</td>\n",
       "      <td>9.497443e+07</td>\n",
       "      <td>4.039911e+08</td>\n",
       "    </tr>\n",
       "    <tr>\n",
       "      <th>8516</th>\n",
       "      <td>7080</td>\n",
       "      <td>Gary Ross</td>\n",
       "      <td>2.571099</td>\n",
       "      <td>75000000.0</td>\n",
       "      <td>6.912107e+08</td>\n",
       "      <td>142.0</td>\n",
       "      <td>6.7</td>\n",
       "      <td>2012.0</td>\n",
       "      <td>7.123082e+07</td>\n",
       "      <td>6.564734e+08</td>\n",
       "    </tr>\n",
       "  </tbody>\n",
       "</table>\n",
       "</div>"
      ],
      "text/plain": [
       "      vote_count           director  popularity       budget       revenue  \\\n",
       "8521        9767  Christopher Nolan    9.363643  160000000.0  8.255000e+08   \n",
       "8520        8903        Joss Whedon    7.637767  220000000.0  1.519558e+09   \n",
       "8519        8458      James Cameron    9.432768  237000000.0  2.781506e+09   \n",
       "8518        8432  Christopher Nolan    8.466668  185000000.0  1.001922e+09   \n",
       "8517        7375  Quentin Tarantino    5.944518  100000000.0  4.253682e+08   \n",
       "8516        7080          Gary Ross    2.571099   75000000.0  6.912107e+08   \n",
       "\n",
       "      runtime  vote_average  release_year    budget_adj   revenue_adj  \n",
       "8521    148.0           7.9        2010.0  1.600000e+08  8.255000e+08  \n",
       "8520    143.0           7.3        2012.0  2.089437e+08  1.443191e+09  \n",
       "8519    162.0           7.1        2009.0  2.408869e+08  2.827124e+09  \n",
       "8518    152.0           8.1        2008.0  1.873655e+08  1.014733e+09  \n",
       "8517    165.0           7.7        2012.0  9.497443e+07  4.039911e+08  \n",
       "8516    142.0           6.7        2012.0  7.123082e+07  6.564734e+08  "
      ]
     },
     "execution_count": 86,
     "metadata": {},
     "output_type": "execute_result"
    }
   ],
   "source": [
    "# 2.c. Who are the Top 5 directors ?\n",
    "\n",
    "print(\"TOP 5 Directors With Highest Votes are: \")\n",
    "\n",
    "top_director = data.groupby(['vote_count','director'], as_index=False).mean().sort_values(['vote_count'], ascending = False)[:6]\n",
    "top_director"
   ]
  },
  {
   "cell_type": "code",
   "execution_count": 87,
   "metadata": {},
   "outputs": [
    {
     "data": {
      "image/png": "[encoded data removed]",
      "text/plain": [
       "<Figure size 432x288 with 1 Axes>"
      ]
     },
     "metadata": {
      "needs_background": "light"
     },
     "output_type": "display_data"
    }
   ],
   "source": [
    "# Plotting TOP 5 Directors With Highest Votes:\n",
    "\n",
    "plt.bar(top_director['director'], top_director['vote_count'])\n",
    "plt.xticks(rotation=90)\n",
    "plt.title('TOP 5 Directors_With_Highest_Votes[1959-2015]')\n",
    "plt.xlabel(\"Directors\",fontsize = 12) \n",
    "plt.ylabel(\"Movie_Vote_Count\",fontsize = 12) \n",
    "plt.grid(True)"
   ]
  },
  {
   "cell_type": "markdown",
   "metadata": {},
   "source": [
    "Question 3:\n",
    "\n",
    "3. Which movie(s):\n",
    "\n",
    "   3.a. Have earned the highest and least profits?\n",
    "   \n",
    "   3.b. Have the highest and least popularity scores?\n",
    "   \n",
    "   3.c. Has the highest and least revenue?\n",
    "   \n",
    "   3.d. Have the highest and least budget?"
   ]
  },
  {
   "cell_type": "code",
   "execution_count": 88,
   "metadata": {},
   "outputs": [
    {
     "data": {
      "text/html": [
       "<div>\n",
       "<style scoped>\n",
       "    .dataframe tbody tr th:only-of-type {\n",
       "        vertical-align: middle;\n",
       "    }\n",
       "\n",
       "    .dataframe tbody tr th {\n",
       "        vertical-align: top;\n",
       "    }\n",
       "\n",
       "    .dataframe thead th {\n",
       "        text-align: right;\n",
       "    }\n",
       "</style>\n",
       "<table border=\"1\" class=\"dataframe\">\n",
       "  <thead>\n",
       "    <tr style=\"text-align: right;\">\n",
       "      <th></th>\n",
       "      <th>popularity</th>\n",
       "      <th>budget</th>\n",
       "      <th>revenue</th>\n",
       "      <th>original_title</th>\n",
       "      <th>cast</th>\n",
       "      <th>director</th>\n",
       "      <th>keywords</th>\n",
       "      <th>runtime</th>\n",
       "      <th>genres</th>\n",
       "      <th>production_companies</th>\n",
       "      <th>release_date</th>\n",
       "      <th>vote_count</th>\n",
       "      <th>vote_average</th>\n",
       "      <th>release_year</th>\n",
       "      <th>budget_adj</th>\n",
       "      <th>revenue_adj</th>\n",
       "      <th>profit</th>\n",
       "    </tr>\n",
       "  </thead>\n",
       "  <tbody>\n",
       "    <tr>\n",
       "      <th>0</th>\n",
       "      <td>32.985763</td>\n",
       "      <td>150000000.0</td>\n",
       "      <td>1.513529e+09</td>\n",
       "      <td>Jurassic World</td>\n",
       "      <td>Chris Pratt|Bryce Dallas Howard|Irrfan Khan|Vi...</td>\n",
       "      <td>Colin Trevorrow</td>\n",
       "      <td>monster|dna|tyrannosaurus rex|velociraptor|island</td>\n",
       "      <td>124.0</td>\n",
       "      <td>Action|Adventure|Science Fiction|Thriller</td>\n",
       "      <td>Universal Studios|Amblin Entertainment|Legenda...</td>\n",
       "      <td>2015-06-09</td>\n",
       "      <td>5562</td>\n",
       "      <td>6.5</td>\n",
       "      <td>2015</td>\n",
       "      <td>137999939.3</td>\n",
       "      <td>1.392446e+09</td>\n",
       "      <td>1.363529e+09</td>\n",
       "    </tr>\n",
       "    <tr>\n",
       "      <th>1</th>\n",
       "      <td>28.419936</td>\n",
       "      <td>150000000.0</td>\n",
       "      <td>3.784364e+08</td>\n",
       "      <td>Mad Max: Fury Road</td>\n",
       "      <td>Tom Hardy|Charlize Theron|Hugh Keays-Byrne|Nic...</td>\n",
       "      <td>George Miller</td>\n",
       "      <td>future|chase|post-apocalyptic|dystopia|australia</td>\n",
       "      <td>120.0</td>\n",
       "      <td>Action|Adventure|Science Fiction|Thriller</td>\n",
       "      <td>Village Roadshow Pictures|Kennedy Miller Produ...</td>\n",
       "      <td>2015-05-13</td>\n",
       "      <td>6185</td>\n",
       "      <td>7.1</td>\n",
       "      <td>2015</td>\n",
       "      <td>137999939.3</td>\n",
       "      <td>3.481613e+08</td>\n",
       "      <td>2.284364e+08</td>\n",
       "    </tr>\n",
       "    <tr>\n",
       "      <th>2</th>\n",
       "      <td>13.112507</td>\n",
       "      <td>110000000.0</td>\n",
       "      <td>2.952382e+08</td>\n",
       "      <td>Insurgent</td>\n",
       "      <td>Shailene Woodley|Theo James|Kate Winslet|Ansel...</td>\n",
       "      <td>Robert Schwentke</td>\n",
       "      <td>based on novel|revolution|dystopia|sequel|dyst...</td>\n",
       "      <td>119.0</td>\n",
       "      <td>Adventure|Science Fiction|Thriller</td>\n",
       "      <td>Summit Entertainment|Mandeville Films|Red Wago...</td>\n",
       "      <td>2015-03-18</td>\n",
       "      <td>2480</td>\n",
       "      <td>6.3</td>\n",
       "      <td>2015</td>\n",
       "      <td>101199955.5</td>\n",
       "      <td>2.716190e+08</td>\n",
       "      <td>1.852382e+08</td>\n",
       "    </tr>\n",
       "    <tr>\n",
       "      <th>3</th>\n",
       "      <td>11.173104</td>\n",
       "      <td>200000000.0</td>\n",
       "      <td>2.068178e+09</td>\n",
       "      <td>Star Wars: The Force Awakens</td>\n",
       "      <td>Harrison Ford|Mark Hamill|Carrie Fisher|Adam D...</td>\n",
       "      <td>J.J. Abrams</td>\n",
       "      <td>android|spaceship|jedi|space opera|3d</td>\n",
       "      <td>136.0</td>\n",
       "      <td>Action|Adventure|Science Fiction|Fantasy</td>\n",
       "      <td>Lucasfilm|Truenorth Productions|Bad Robot</td>\n",
       "      <td>2015-12-15</td>\n",
       "      <td>5292</td>\n",
       "      <td>7.5</td>\n",
       "      <td>2015</td>\n",
       "      <td>183999919.0</td>\n",
       "      <td>1.902723e+09</td>\n",
       "      <td>1.868178e+09</td>\n",
       "    </tr>\n",
       "    <tr>\n",
       "      <th>4</th>\n",
       "      <td>9.335014</td>\n",
       "      <td>190000000.0</td>\n",
       "      <td>1.506249e+09</td>\n",
       "      <td>Furious 7</td>\n",
       "      <td>Vin Diesel|Paul Walker|Jason Statham|Michelle ...</td>\n",
       "      <td>James Wan</td>\n",
       "      <td>car race|speed|revenge|suspense|car</td>\n",
       "      <td>137.0</td>\n",
       "      <td>Action|Crime|Thriller</td>\n",
       "      <td>Universal Pictures|Original Film|Media Rights ...</td>\n",
       "      <td>2015-04-01</td>\n",
       "      <td>2947</td>\n",
       "      <td>7.3</td>\n",
       "      <td>2015</td>\n",
       "      <td>174799923.1</td>\n",
       "      <td>1.385749e+09</td>\n",
       "      <td>1.316249e+09</td>\n",
       "    </tr>\n",
       "  </tbody>\n",
       "</table>\n",
       "</div>"
      ],
      "text/plain": [
       "   popularity       budget       revenue                original_title  \\\n",
       "0   32.985763  150000000.0  1.513529e+09                Jurassic World   \n",
       "1   28.419936  150000000.0  3.784364e+08            Mad Max: Fury Road   \n",
       "2   13.112507  110000000.0  2.952382e+08                     Insurgent   \n",
       "3   11.173104  200000000.0  2.068178e+09  Star Wars: The Force Awakens   \n",
       "4    9.335014  190000000.0  1.506249e+09                     Furious 7   \n",
       "\n",
       "                                                cast          director  \\\n",
       "0  Chris Pratt|Bryce Dallas Howard|Irrfan Khan|Vi...   Colin Trevorrow   \n",
       "1  Tom Hardy|Charlize Theron|Hugh Keays-Byrne|Nic...     George Miller   \n",
       "2  Shailene Woodley|Theo James|Kate Winslet|Ansel...  Robert Schwentke   \n",
       "3  Harrison Ford|Mark Hamill|Carrie Fisher|Adam D...       J.J. Abrams   \n",
       "4  Vin Diesel|Paul Walker|Jason Statham|Michelle ...         James Wan   \n",
       "\n",
       "                                            keywords  runtime  \\\n",
       "0  monster|dna|tyrannosaurus rex|velociraptor|island    124.0   \n",
       "1   future|chase|post-apocalyptic|dystopia|australia    120.0   \n",
       "2  based on novel|revolution|dystopia|sequel|dyst...    119.0   \n",
       "3              android|spaceship|jedi|space opera|3d    136.0   \n",
       "4                car race|speed|revenge|suspense|car    137.0   \n",
       "\n",
       "                                      genres  \\\n",
       "0  Action|Adventure|Science Fiction|Thriller   \n",
       "1  Action|Adventure|Science Fiction|Thriller   \n",
       "2         Adventure|Science Fiction|Thriller   \n",
       "3   Action|Adventure|Science Fiction|Fantasy   \n",
       "4                      Action|Crime|Thriller   \n",
       "\n",
       "                                production_companies release_date  vote_count  \\\n",
       "0  Universal Studios|Amblin Entertainment|Legenda...   2015-06-09        5562   \n",
       "1  Village Roadshow Pictures|Kennedy Miller Produ...   2015-05-13        6185   \n",
       "2  Summit Entertainment|Mandeville Films|Red Wago...   2015-03-18        2480   \n",
       "3          Lucasfilm|Truenorth Productions|Bad Robot   2015-12-15        5292   \n",
       "4  Universal Pictures|Original Film|Media Rights ...   2015-04-01        2947   \n",
       "\n",
       "   vote_average  release_year   budget_adj   revenue_adj        profit  \n",
       "0           6.5          2015  137999939.3  1.392446e+09  1.363529e+09  \n",
       "1           7.1          2015  137999939.3  3.481613e+08  2.284364e+08  \n",
       "2           6.3          2015  101199955.5  2.716190e+08  1.852382e+08  \n",
       "3           7.5          2015  183999919.0  1.902723e+09  1.868178e+09  \n",
       "4           7.3          2015  174799923.1  1.385749e+09  1.316249e+09  "
      ]
     },
     "execution_count": 88,
     "metadata": {},
     "output_type": "execute_result"
    }
   ],
   "source": [
    "# To find highest and lowest profit, need to calculate profit first. \n",
    "# For profit =  revenue - budget.\n",
    "\n",
    "data['profit'] = data['revenue'] - data['budget']\n",
    "data.head()"
   ]
  },
  {
   "cell_type": "code",
   "execution_count": 89,
   "metadata": {},
   "outputs": [],
   "source": [
    "# Create function to calculate highest and lowest profit, popularity, revenue and budget.\n",
    "\n",
    "def HighLow(ele):\n",
    "    high = data[ele].max()\n",
    "    high = pd.DataFrame(data[data[ele] == high])\n",
    "    \n",
    "    low = data[ele].min()\n",
    "    low = pd.DataFrame(data[data[ele] == low])\n",
    "    \n",
    "    table = high.append(low, ignore_index=True)\n",
    "    \n",
    "    return table"
   ]
  },
  {
   "cell_type": "code",
   "execution_count": 90,
   "metadata": {},
   "outputs": [
    {
     "name": "stdout",
     "output_type": "stream",
     "text": [
      "Movie with highest profit: AVATAR and Movie with lowest profit: THE WARRIOR'S WAY.\n"
     ]
    },
    {
     "data": {
      "text/html": [
       "<div>\n",
       "<style scoped>\n",
       "    .dataframe tbody tr th:only-of-type {\n",
       "        vertical-align: middle;\n",
       "    }\n",
       "\n",
       "    .dataframe tbody tr th {\n",
       "        vertical-align: top;\n",
       "    }\n",
       "\n",
       "    .dataframe thead th {\n",
       "        text-align: right;\n",
       "    }\n",
       "</style>\n",
       "<table border=\"1\" class=\"dataframe\">\n",
       "  <thead>\n",
       "    <tr style=\"text-align: right;\">\n",
       "      <th></th>\n",
       "      <th>popularity</th>\n",
       "      <th>budget</th>\n",
       "      <th>revenue</th>\n",
       "      <th>original_title</th>\n",
       "      <th>cast</th>\n",
       "      <th>director</th>\n",
       "      <th>keywords</th>\n",
       "      <th>runtime</th>\n",
       "      <th>genres</th>\n",
       "      <th>production_companies</th>\n",
       "      <th>release_date</th>\n",
       "      <th>vote_count</th>\n",
       "      <th>vote_average</th>\n",
       "      <th>release_year</th>\n",
       "      <th>budget_adj</th>\n",
       "      <th>revenue_adj</th>\n",
       "      <th>profit</th>\n",
       "    </tr>\n",
       "  </thead>\n",
       "  <tbody>\n",
       "    <tr>\n",
       "      <th>0</th>\n",
       "      <td>9.432768</td>\n",
       "      <td>237000000.0</td>\n",
       "      <td>2.781506e+09</td>\n",
       "      <td>Avatar</td>\n",
       "      <td>Sam Worthington|Zoe Saldana|Sigourney Weaver|S...</td>\n",
       "      <td>James Cameron</td>\n",
       "      <td>culture clash|future|space war|space colony|so...</td>\n",
       "      <td>162.0</td>\n",
       "      <td>Action|Adventure|Fantasy|Science Fiction</td>\n",
       "      <td>Ingenious Film Partners|Twentieth Century Fox ...</td>\n",
       "      <td>2009-12-10</td>\n",
       "      <td>8458</td>\n",
       "      <td>7.1</td>\n",
       "      <td>2009</td>\n",
       "      <td>240886902.9</td>\n",
       "      <td>2.827124e+09</td>\n",
       "      <td>2.544506e+09</td>\n",
       "    </tr>\n",
       "    <tr>\n",
       "      <th>1</th>\n",
       "      <td>0.250540</td>\n",
       "      <td>425000000.0</td>\n",
       "      <td>1.108757e+07</td>\n",
       "      <td>The Warrior's Way</td>\n",
       "      <td>Kate Bosworth|Jang Dong-gun|Geoffrey Rush|Dann...</td>\n",
       "      <td>Sngmoo Lee</td>\n",
       "      <td>assassin|small town|revenge|deception|super speed</td>\n",
       "      <td>100.0</td>\n",
       "      <td>Adventure|Fantasy|Action|Western|Thriller</td>\n",
       "      <td>Boram Entertainment Inc.</td>\n",
       "      <td>2010-12-02</td>\n",
       "      <td>74</td>\n",
       "      <td>6.4</td>\n",
       "      <td>2010</td>\n",
       "      <td>425000000.0</td>\n",
       "      <td>1.108757e+07</td>\n",
       "      <td>-4.139124e+08</td>\n",
       "    </tr>\n",
       "  </tbody>\n",
       "</table>\n",
       "</div>"
      ],
      "text/plain": [
       "   popularity       budget       revenue     original_title  \\\n",
       "0    9.432768  237000000.0  2.781506e+09             Avatar   \n",
       "1    0.250540  425000000.0  1.108757e+07  The Warrior's Way   \n",
       "\n",
       "                                                cast       director  \\\n",
       "0  Sam Worthington|Zoe Saldana|Sigourney Weaver|S...  James Cameron   \n",
       "1  Kate Bosworth|Jang Dong-gun|Geoffrey Rush|Dann...     Sngmoo Lee   \n",
       "\n",
       "                                            keywords  runtime  \\\n",
       "0  culture clash|future|space war|space colony|so...    162.0   \n",
       "1  assassin|small town|revenge|deception|super speed    100.0   \n",
       "\n",
       "                                      genres  \\\n",
       "0   Action|Adventure|Fantasy|Science Fiction   \n",
       "1  Adventure|Fantasy|Action|Western|Thriller   \n",
       "\n",
       "                                production_companies release_date  vote_count  \\\n",
       "0  Ingenious Film Partners|Twentieth Century Fox ...   2009-12-10        8458   \n",
       "1                           Boram Entertainment Inc.   2010-12-02          74   \n",
       "\n",
       "   vote_average  release_year   budget_adj   revenue_adj        profit  \n",
       "0           7.1          2009  240886902.9  2.827124e+09  2.544506e+09  \n",
       "1           6.4          2010  425000000.0  1.108757e+07 -4.139124e+08  "
      ]
     },
     "execution_count": 90,
     "metadata": {},
     "output_type": "execute_result"
    }
   ],
   "source": [
    "# 3.a. Have earned the highest and lowest profits?\n",
    "\n",
    "print(\"Movie with highest profit: AVATAR and Movie with lowest profit: THE WARRIOR'S WAY.\")\n",
    "\n",
    "h_l_profit = HighLow('profit')\n",
    "h_l_profit"
   ]
  },
  {
   "cell_type": "code",
   "execution_count": 91,
   "metadata": {},
   "outputs": [
    {
     "data": {
      "text/plain": [
       "(array([0, 1]), <a list of 2 Text xticklabel objects>)"
      ]
     },
     "execution_count": 91,
     "metadata": {},
     "output_type": "execute_result"
    },
    {
     "data": {
      "image/png": "[encoded data removed]",
      "text/plain": [
       "<Figure size 504x504 with 1 Axes>"
      ]
     },
     "metadata": {
      "needs_background": "light"
     },
     "output_type": "display_data"
    }
   ],
   "source": [
    "# Plotting highest and lowest movie making profit.\n",
    "\n",
    "h_l_profit.groupby(['original_title', 'director', 'release_year'])['profit'].sum().plot(kind = 'bar', figsize=(7,7))\n",
    "plt.title('Higest-Lowest Movie_Making_Profit[1959-2015]')\n",
    "plt.xlabel(\"Movie, Director, Release_Year\",fontsize = 12) \n",
    "plt.ylabel(\"Profit/Loss Amount [billion $]\",fontsize = 12) \n",
    "plt.grid(True)\n",
    "plt.xticks(rotation=0)"
   ]
  },
  {
   "cell_type": "code",
   "execution_count": 92,
   "metadata": {},
   "outputs": [
    {
     "name": "stdout",
     "output_type": "stream",
     "text": [
      "Movie with highest popularity: JURASSIC WORLD and Movie with lowest popularity: THE HOSPITAL.\n"
     ]
    },
    {
     "data": {
      "text/html": [
       "<div>\n",
       "<style scoped>\n",
       "    .dataframe tbody tr th:only-of-type {\n",
       "        vertical-align: middle;\n",
       "    }\n",
       "\n",
       "    .dataframe tbody tr th {\n",
       "        vertical-align: top;\n",
       "    }\n",
       "\n",
       "    .dataframe thead th {\n",
       "        text-align: right;\n",
       "    }\n",
       "</style>\n",
       "<table border=\"1\" class=\"dataframe\">\n",
       "  <thead>\n",
       "    <tr style=\"text-align: right;\">\n",
       "      <th></th>\n",
       "      <th>popularity</th>\n",
       "      <th>budget</th>\n",
       "      <th>revenue</th>\n",
       "      <th>original_title</th>\n",
       "      <th>cast</th>\n",
       "      <th>director</th>\n",
       "      <th>keywords</th>\n",
       "      <th>runtime</th>\n",
       "      <th>genres</th>\n",
       "      <th>production_companies</th>\n",
       "      <th>release_date</th>\n",
       "      <th>vote_count</th>\n",
       "      <th>vote_average</th>\n",
       "      <th>release_year</th>\n",
       "      <th>budget_adj</th>\n",
       "      <th>revenue_adj</th>\n",
       "      <th>profit</th>\n",
       "    </tr>\n",
       "  </thead>\n",
       "  <tbody>\n",
       "    <tr>\n",
       "      <th>0</th>\n",
       "      <td>32.985763</td>\n",
       "      <td>1.500000e+08</td>\n",
       "      <td>1.513529e+09</td>\n",
       "      <td>Jurassic World</td>\n",
       "      <td>Chris Pratt|Bryce Dallas Howard|Irrfan Khan|Vi...</td>\n",
       "      <td>Colin Trevorrow</td>\n",
       "      <td>monster|dna|tyrannosaurus rex|velociraptor|island</td>\n",
       "      <td>124.0</td>\n",
       "      <td>Action|Adventure|Science Fiction|Thriller</td>\n",
       "      <td>Universal Studios|Amblin Entertainment|Legenda...</td>\n",
       "      <td>2015-06-09</td>\n",
       "      <td>5562</td>\n",
       "      <td>6.5</td>\n",
       "      <td>2015</td>\n",
       "      <td>1.379999e+08</td>\n",
       "      <td>1.392446e+09</td>\n",
       "      <td>1.363529e+09</td>\n",
       "    </tr>\n",
       "    <tr>\n",
       "      <th>1</th>\n",
       "      <td>0.000188</td>\n",
       "      <td>1.462570e+07</td>\n",
       "      <td>3.982332e+07</td>\n",
       "      <td>The Hospital</td>\n",
       "      <td>George C. Scott|Diana Rigg|Richard Dysart|Barn...</td>\n",
       "      <td>Arthur Hiller</td>\n",
       "      <td>hospital|malpratice</td>\n",
       "      <td>103.0</td>\n",
       "      <td>Mystery|Comedy|Drama</td>\n",
       "      <td>Simcha Productions</td>\n",
       "      <td>1971-12-14</td>\n",
       "      <td>10</td>\n",
       "      <td>6.4</td>\n",
       "      <td>1971</td>\n",
       "      <td>1.755104e+07</td>\n",
       "      <td>5.136436e+07</td>\n",
       "      <td>2.519762e+07</td>\n",
       "    </tr>\n",
       "  </tbody>\n",
       "</table>\n",
       "</div>"
      ],
      "text/plain": [
       "   popularity        budget       revenue  original_title  \\\n",
       "0   32.985763  1.500000e+08  1.513529e+09  Jurassic World   \n",
       "1    0.000188  1.462570e+07  3.982332e+07    The Hospital   \n",
       "\n",
       "                                                cast         director  \\\n",
       "0  Chris Pratt|Bryce Dallas Howard|Irrfan Khan|Vi...  Colin Trevorrow   \n",
       "1  George C. Scott|Diana Rigg|Richard Dysart|Barn...    Arthur Hiller   \n",
       "\n",
       "                                            keywords  runtime  \\\n",
       "0  monster|dna|tyrannosaurus rex|velociraptor|island    124.0   \n",
       "1                                hospital|malpratice    103.0   \n",
       "\n",
       "                                      genres  \\\n",
       "0  Action|Adventure|Science Fiction|Thriller   \n",
       "1                       Mystery|Comedy|Drama   \n",
       "\n",
       "                                production_companies release_date  vote_count  \\\n",
       "0  Universal Studios|Amblin Entertainment|Legenda...   2015-06-09        5562   \n",
       "1                                 Simcha Productions   1971-12-14          10   \n",
       "\n",
       "   vote_average  release_year    budget_adj   revenue_adj        profit  \n",
       "0           6.5          2015  1.379999e+08  1.392446e+09  1.363529e+09  \n",
       "1           6.4          1971  1.755104e+07  5.136436e+07  2.519762e+07  "
      ]
     },
     "execution_count": 92,
     "metadata": {},
     "output_type": "execute_result"
    }
   ],
   "source": [
    "# 3.b. Have the highest and lowest popularity scores?\n",
    "# Use same function:\n",
    "\n",
    "print(\"Movie with highest popularity: JURASSIC WORLD and Movie with lowest popularity: THE HOSPITAL.\")\n",
    "\n",
    "h_l_profit = HighLow('popularity')\n",
    "h_l_profit"
   ]
  },
  {
   "cell_type": "code",
   "execution_count": 93,
   "metadata": {},
   "outputs": [
    {
     "data": {
      "text/plain": [
       "(array([0, 1]), <a list of 2 Text xticklabel objects>)"
      ]
     },
     "execution_count": 93,
     "metadata": {},
     "output_type": "execute_result"
    },
    {
     "data": {
      "image/png": "[encoded data removed]",
      "text/plain": [
       "<Figure size 504x504 with 1 Axes>"
      ]
     },
     "metadata": {
      "needs_background": "light"
     },
     "output_type": "display_data"
    }
   ],
   "source": [
    "# Plotting highest and lowest movie popularity.\n",
    "\n",
    "h_l_profit.groupby(['original_title', 'director', 'release_year'])['popularity'].mean().plot(kind = 'bar', figsize=(7,7))\n",
    "plt.title('Higest-Lowest Movie_Popularity[1959-2015]')\n",
    "plt.xlabel(\"Movie, Director, Release_Year\",fontsize = 12) \n",
    "plt.ylabel(\"Polularity\",fontsize = 12) \n",
    "plt.grid(True)\n",
    "plt.xticks(rotation=0)"
   ]
  },
  {
   "cell_type": "code",
   "execution_count": 94,
   "metadata": {},
   "outputs": [
    {
     "name": "stdout",
     "output_type": "stream",
     "text": [
      "Movie with highest revenue: AVATAR and Movie with lowest revenue: MALLRATS.\n"
     ]
    },
    {
     "data": {
      "text/html": [
       "<div>\n",
       "<style scoped>\n",
       "    .dataframe tbody tr th:only-of-type {\n",
       "        vertical-align: middle;\n",
       "    }\n",
       "\n",
       "    .dataframe tbody tr th {\n",
       "        vertical-align: top;\n",
       "    }\n",
       "\n",
       "    .dataframe thead th {\n",
       "        text-align: right;\n",
       "    }\n",
       "</style>\n",
       "<table border=\"1\" class=\"dataframe\">\n",
       "  <thead>\n",
       "    <tr style=\"text-align: right;\">\n",
       "      <th></th>\n",
       "      <th>popularity</th>\n",
       "      <th>budget</th>\n",
       "      <th>revenue</th>\n",
       "      <th>original_title</th>\n",
       "      <th>cast</th>\n",
       "      <th>director</th>\n",
       "      <th>keywords</th>\n",
       "      <th>runtime</th>\n",
       "      <th>genres</th>\n",
       "      <th>production_companies</th>\n",
       "      <th>release_date</th>\n",
       "      <th>vote_count</th>\n",
       "      <th>vote_average</th>\n",
       "      <th>release_year</th>\n",
       "      <th>budget_adj</th>\n",
       "      <th>revenue_adj</th>\n",
       "      <th>profit</th>\n",
       "    </tr>\n",
       "  </thead>\n",
       "  <tbody>\n",
       "    <tr>\n",
       "      <th>0</th>\n",
       "      <td>9.432768</td>\n",
       "      <td>237000000.0</td>\n",
       "      <td>2.781506e+09</td>\n",
       "      <td>Avatar</td>\n",
       "      <td>Sam Worthington|Zoe Saldana|Sigourney Weaver|S...</td>\n",
       "      <td>James Cameron</td>\n",
       "      <td>culture clash|future|space war|space colony|so...</td>\n",
       "      <td>162.0</td>\n",
       "      <td>Action|Adventure|Fantasy|Science Fiction</td>\n",
       "      <td>Ingenious Film Partners|Twentieth Century Fox ...</td>\n",
       "      <td>2009-12-10</td>\n",
       "      <td>8458</td>\n",
       "      <td>7.1</td>\n",
       "      <td>2009</td>\n",
       "      <td>2.408869e+08</td>\n",
       "      <td>2.827124e+09</td>\n",
       "      <td>2.544506e+09</td>\n",
       "    </tr>\n",
       "    <tr>\n",
       "      <th>1</th>\n",
       "      <td>0.552091</td>\n",
       "      <td>6000000.0</td>\n",
       "      <td>2.000000e+00</td>\n",
       "      <td>Mallrats</td>\n",
       "      <td>Jason Lee|Jeremy London|Shannen Doherty|Claire...</td>\n",
       "      <td>Kevin Smith</td>\n",
       "      <td>sex|game show|slacker|comic|shopping</td>\n",
       "      <td>94.0</td>\n",
       "      <td>Romance|Comedy</td>\n",
       "      <td>Gramercy Pictures|Alphaville Films|View Askew ...</td>\n",
       "      <td>1995-10-20</td>\n",
       "      <td>201</td>\n",
       "      <td>6.8</td>\n",
       "      <td>1995</td>\n",
       "      <td>8.585801e+06</td>\n",
       "      <td>2.861934e+00</td>\n",
       "      <td>-5.999998e+06</td>\n",
       "    </tr>\n",
       "  </tbody>\n",
       "</table>\n",
       "</div>"
      ],
      "text/plain": [
       "   popularity       budget       revenue original_title  \\\n",
       "0    9.432768  237000000.0  2.781506e+09         Avatar   \n",
       "1    0.552091    6000000.0  2.000000e+00       Mallrats   \n",
       "\n",
       "                                                cast       director  \\\n",
       "0  Sam Worthington|Zoe Saldana|Sigourney Weaver|S...  James Cameron   \n",
       "1  Jason Lee|Jeremy London|Shannen Doherty|Claire...    Kevin Smith   \n",
       "\n",
       "                                            keywords  runtime  \\\n",
       "0  culture clash|future|space war|space colony|so...    162.0   \n",
       "1               sex|game show|slacker|comic|shopping     94.0   \n",
       "\n",
       "                                     genres  \\\n",
       "0  Action|Adventure|Fantasy|Science Fiction   \n",
       "1                            Romance|Comedy   \n",
       "\n",
       "                                production_companies release_date  vote_count  \\\n",
       "0  Ingenious Film Partners|Twentieth Century Fox ...   2009-12-10        8458   \n",
       "1  Gramercy Pictures|Alphaville Films|View Askew ...   1995-10-20         201   \n",
       "\n",
       "   vote_average  release_year    budget_adj   revenue_adj        profit  \n",
       "0           7.1          2009  2.408869e+08  2.827124e+09  2.544506e+09  \n",
       "1           6.8          1995  8.585801e+06  2.861934e+00 -5.999998e+06  "
      ]
     },
     "execution_count": 94,
     "metadata": {},
     "output_type": "execute_result"
    }
   ],
   "source": [
    "# 3.c. Has the highest and lowest revenue?\n",
    "# Use same function:\n",
    "\n",
    "print(\"Movie with highest revenue: AVATAR and Movie with lowest revenue: MALLRATS.\")\n",
    "\n",
    "h_l_profit = HighLow('revenue')\n",
    "h_l_profit    "
   ]
  },
  {
   "cell_type": "code",
   "execution_count": 95,
   "metadata": {},
   "outputs": [
    {
     "data": {
      "text/plain": [
       "(array([0, 1]), <a list of 2 Text xticklabel objects>)"
      ]
     },
     "execution_count": 95,
     "metadata": {},
     "output_type": "execute_result"
    },
    {
     "data": {
      "image/png": "[encoded data removed]",
      "text/plain": [
       "<Figure size 504x504 with 1 Axes>"
      ]
     },
     "metadata": {
      "needs_background": "light"
     },
     "output_type": "display_data"
    }
   ],
   "source": [
    "# Plotting highest and lowest movie revenue.\n",
    "\n",
    "h_l_profit.groupby(['original_title', 'director', 'release_year'])['revenue'].mean().plot(kind = 'bar', figsize=(7,7))\n",
    "plt.title('Higest-Lowest Revenue_Movie')\n",
    "plt.xlabel(\"Movie, Director, Release_Year[1959-2015]\",fontsize = 12) \n",
    "plt.ylabel(\"Revenue [billion $]\",fontsize = 12) \n",
    "plt.grid(True)\n",
    "plt.xticks(rotation=0)"
   ]
  },
  {
   "cell_type": "code",
   "execution_count": 96,
   "metadata": {},
   "outputs": [
    {
     "name": "stdout",
     "output_type": "stream",
     "text": [
      "Movie with highest budget: THE WARRIOR'S WAY and Movie with lowest budget: LOST AND FOUND, FEAR CLINIC AND ANGUS,THONGS AND PERFECT SNOGGING.\n"
     ]
    },
    {
     "data": {
      "text/html": [
       "<div>\n",
       "<style scoped>\n",
       "    .dataframe tbody tr th:only-of-type {\n",
       "        vertical-align: middle;\n",
       "    }\n",
       "\n",
       "    .dataframe tbody tr th {\n",
       "        vertical-align: top;\n",
       "    }\n",
       "\n",
       "    .dataframe thead th {\n",
       "        text-align: right;\n",
       "    }\n",
       "</style>\n",
       "<table border=\"1\" class=\"dataframe\">\n",
       "  <thead>\n",
       "    <tr style=\"text-align: right;\">\n",
       "      <th></th>\n",
       "      <th>popularity</th>\n",
       "      <th>budget</th>\n",
       "      <th>revenue</th>\n",
       "      <th>original_title</th>\n",
       "      <th>cast</th>\n",
       "      <th>director</th>\n",
       "      <th>keywords</th>\n",
       "      <th>runtime</th>\n",
       "      <th>genres</th>\n",
       "      <th>production_companies</th>\n",
       "      <th>release_date</th>\n",
       "      <th>vote_count</th>\n",
       "      <th>vote_average</th>\n",
       "      <th>release_year</th>\n",
       "      <th>budget_adj</th>\n",
       "      <th>revenue_adj</th>\n",
       "      <th>profit</th>\n",
       "    </tr>\n",
       "  </thead>\n",
       "  <tbody>\n",
       "    <tr>\n",
       "      <th>0</th>\n",
       "      <td>0.250540</td>\n",
       "      <td>425000000.0</td>\n",
       "      <td>1.108757e+07</td>\n",
       "      <td>The Warrior's Way</td>\n",
       "      <td>Kate Bosworth|Jang Dong-gun|Geoffrey Rush|Dann...</td>\n",
       "      <td>Sngmoo Lee</td>\n",
       "      <td>assassin|small town|revenge|deception|super speed</td>\n",
       "      <td>100.0</td>\n",
       "      <td>Adventure|Fantasy|Action|Western|Thriller</td>\n",
       "      <td>Boram Entertainment Inc.</td>\n",
       "      <td>2010-12-02</td>\n",
       "      <td>74</td>\n",
       "      <td>6.4</td>\n",
       "      <td>2010</td>\n",
       "      <td>4.250000e+08</td>\n",
       "      <td>1.108757e+07</td>\n",
       "      <td>-4.139124e+08</td>\n",
       "    </tr>\n",
       "    <tr>\n",
       "      <th>1</th>\n",
       "      <td>0.177102</td>\n",
       "      <td>1.0</td>\n",
       "      <td>3.982332e+07</td>\n",
       "      <td>Fear Clinic</td>\n",
       "      <td>Thomas Dekker|Robert Englund|Cleopatra Coleman...</td>\n",
       "      <td>Robert Hall</td>\n",
       "      <td>phobia|doctor|fear</td>\n",
       "      <td>95.0</td>\n",
       "      <td>Horror</td>\n",
       "      <td>Dry County Films|Anchor Bay Entertainment|Movi...</td>\n",
       "      <td>2014-10-31</td>\n",
       "      <td>15</td>\n",
       "      <td>4.1</td>\n",
       "      <td>2014</td>\n",
       "      <td>9.210911e-01</td>\n",
       "      <td>5.136436e+07</td>\n",
       "      <td>3.982332e+07</td>\n",
       "    </tr>\n",
       "    <tr>\n",
       "      <th>2</th>\n",
       "      <td>0.090186</td>\n",
       "      <td>1.0</td>\n",
       "      <td>1.000000e+02</td>\n",
       "      <td>Lost &amp; Found</td>\n",
       "      <td>David Spade|Sophie Marceau|Ever Carradine|Step...</td>\n",
       "      <td>Jeff Pollack</td>\n",
       "      <td>restaurant|neighbor|dog|ring</td>\n",
       "      <td>95.0</td>\n",
       "      <td>Comedy|Romance</td>\n",
       "      <td>Alcon Entertainment|Dinamo Entertainment</td>\n",
       "      <td>1999-04-23</td>\n",
       "      <td>14</td>\n",
       "      <td>4.8</td>\n",
       "      <td>1999</td>\n",
       "      <td>1.309053e+00</td>\n",
       "      <td>1.309053e+02</td>\n",
       "      <td>9.900000e+01</td>\n",
       "    </tr>\n",
       "    <tr>\n",
       "      <th>3</th>\n",
       "      <td>0.472691</td>\n",
       "      <td>1.0</td>\n",
       "      <td>3.982332e+07</td>\n",
       "      <td>Angus, Thongs and Perfect Snogging</td>\n",
       "      <td>Georgia Groome|Eleanor Tomlinson|Aaron Taylor-...</td>\n",
       "      <td>Gurinder Chadha</td>\n",
       "      <td>adolescence|parents kids relationship|becoming...</td>\n",
       "      <td>100.0</td>\n",
       "      <td>Comedy|Drama|Family|Romance</td>\n",
       "      <td>Paramount Pictures|Nickelodeon Movies|Stella-d...</td>\n",
       "      <td>2008-07-25</td>\n",
       "      <td>146</td>\n",
       "      <td>6.5</td>\n",
       "      <td>2008</td>\n",
       "      <td>1.012787e+00</td>\n",
       "      <td>5.136436e+07</td>\n",
       "      <td>3.982332e+07</td>\n",
       "    </tr>\n",
       "    <tr>\n",
       "      <th>4</th>\n",
       "      <td>0.520430</td>\n",
       "      <td>1.0</td>\n",
       "      <td>1.378000e+03</td>\n",
       "      <td>Love, Wedding, Marriage</td>\n",
       "      <td>Mandy Moore|Kellan Lutz|Jessica Szohr|Autumn F...</td>\n",
       "      <td>Dermot Mulroney</td>\n",
       "      <td>wedding vows|marriage|love</td>\n",
       "      <td>90.0</td>\n",
       "      <td>Comedy|Romance</td>\n",
       "      <td>120dB Films|Scion Films|Voodoo Production Serv...</td>\n",
       "      <td>2011-06-03</td>\n",
       "      <td>55</td>\n",
       "      <td>5.3</td>\n",
       "      <td>2011</td>\n",
       "      <td>9.693980e-01</td>\n",
       "      <td>1.335831e+03</td>\n",
       "      <td>1.377000e+03</td>\n",
       "    </tr>\n",
       "  </tbody>\n",
       "</table>\n",
       "</div>"
      ],
      "text/plain": [
       "   popularity       budget       revenue                      original_title  \\\n",
       "0    0.250540  425000000.0  1.108757e+07                   The Warrior's Way   \n",
       "1    0.177102          1.0  3.982332e+07                         Fear Clinic   \n",
       "2    0.090186          1.0  1.000000e+02                        Lost & Found   \n",
       "3    0.472691          1.0  3.982332e+07  Angus, Thongs and Perfect Snogging   \n",
       "4    0.520430          1.0  1.378000e+03             Love, Wedding, Marriage   \n",
       "\n",
       "                                                cast         director  \\\n",
       "0  Kate Bosworth|Jang Dong-gun|Geoffrey Rush|Dann...       Sngmoo Lee   \n",
       "1  Thomas Dekker|Robert Englund|Cleopatra Coleman...      Robert Hall   \n",
       "2  David Spade|Sophie Marceau|Ever Carradine|Step...     Jeff Pollack   \n",
       "3  Georgia Groome|Eleanor Tomlinson|Aaron Taylor-...  Gurinder Chadha   \n",
       "4  Mandy Moore|Kellan Lutz|Jessica Szohr|Autumn F...  Dermot Mulroney   \n",
       "\n",
       "                                            keywords  runtime  \\\n",
       "0  assassin|small town|revenge|deception|super speed    100.0   \n",
       "1                                 phobia|doctor|fear     95.0   \n",
       "2                       restaurant|neighbor|dog|ring     95.0   \n",
       "3  adolescence|parents kids relationship|becoming...    100.0   \n",
       "4                         wedding vows|marriage|love     90.0   \n",
       "\n",
       "                                      genres  \\\n",
       "0  Adventure|Fantasy|Action|Western|Thriller   \n",
       "1                                     Horror   \n",
       "2                             Comedy|Romance   \n",
       "3                Comedy|Drama|Family|Romance   \n",
       "4                             Comedy|Romance   \n",
       "\n",
       "                                production_companies release_date  vote_count  \\\n",
       "0                           Boram Entertainment Inc.   2010-12-02          74   \n",
       "1  Dry County Films|Anchor Bay Entertainment|Movi...   2014-10-31          15   \n",
       "2           Alcon Entertainment|Dinamo Entertainment   1999-04-23          14   \n",
       "3  Paramount Pictures|Nickelodeon Movies|Stella-d...   2008-07-25         146   \n",
       "4  120dB Films|Scion Films|Voodoo Production Serv...   2011-06-03          55   \n",
       "\n",
       "   vote_average  release_year    budget_adj   revenue_adj        profit  \n",
       "0           6.4          2010  4.250000e+08  1.108757e+07 -4.139124e+08  \n",
       "1           4.1          2014  9.210911e-01  5.136436e+07  3.982332e+07  \n",
       "2           4.8          1999  1.309053e+00  1.309053e+02  9.900000e+01  \n",
       "3           6.5          2008  1.012787e+00  5.136436e+07  3.982332e+07  \n",
       "4           5.3          2011  9.693980e-01  1.335831e+03  1.377000e+03  "
      ]
     },
     "execution_count": 96,
     "metadata": {},
     "output_type": "execute_result"
    }
   ],
   "source": [
    "# 3.d. Have the highest and lowest budget?\n",
    "# Use same function:\n",
    "\n",
    "print(\"Movie with highest budget: THE WARRIOR'S WAY and Movie with lowest budget: LOST AND FOUND, FEAR CLINIC AND ANGUS,THONGS AND PERFECT SNOGGING.\")\n",
    "\n",
    "h_l_profit = HighLow('budget')\n",
    "h_l_profit    "
   ]
  },
  {
   "cell_type": "code",
   "execution_count": 97,
   "metadata": {},
   "outputs": [
    {
     "data": {
      "text/plain": [
       "(array([0, 1, 2, 3, 4]), <a list of 5 Text xticklabel objects>)"
      ]
     },
     "execution_count": 97,
     "metadata": {},
     "output_type": "execute_result"
    },
    {
     "data": {
      "image/png": "[encoded data removed]",
      "text/plain": [
       "<Figure size 432x288 with 1 Axes>"
      ]
     },
     "metadata": {
      "needs_background": "light"
     },
     "output_type": "display_data"
    }
   ],
   "source": [
    "# Plotting highest and lowest movie budget.\n",
    "\n",
    "h_l_profit.groupby(['original_title', 'director', 'release_year'])['budget'].mean().plot(kind = 'bar')\n",
    "plt.title('Higest-Lowest Budget_Movie[1959-2015]')\n",
    "plt.xlabel(\"Movie, Director, Release_Year\",fontsize = 12) \n",
    "plt.ylabel(\"Budget [million $]\",fontsize = 12) \n",
    "plt.grid(True)\n",
    "plt.xticks(rotation=90)"
   ]
  },
  {
   "cell_type": "markdown",
   "metadata": {},
   "source": [
    "Research Question 4:\n",
    "\n",
    "4. 4.a. Which year has the highest number of movie releases?\n",
    "\n",
    "   4.b. which year has the highest annual profit?\n",
    "   \n",
    "   4.c. Which year has the highest annual popularity count?"
   ]
  },
  {
   "cell_type": "code",
   "execution_count": 98,
   "metadata": {},
   "outputs": [
    {
     "data": {
      "image/png": "[encoded data removed]",
      "text/plain": [
       "<Figure size 432x288 with 1 Axes>"
      ]
     },
     "metadata": {
      "needs_background": "light"
     },
     "output_type": "display_data"
    }
   ],
   "source": [
    "# 4.a. Which year has the highest number of movie releases?\n",
    "\n",
    "high_movie = data.groupby(['release_year'],as_index=False)['original_title'].count()\n",
    "\n",
    "plt.bar(high_movie['release_year'], high_movie['original_title']) \n",
    "plt.title(\"Number_Of_Movies_Release_Per_Year[1959-2015]\") \n",
    "plt.xlabel(\"Year\") \n",
    "plt.ylabel(\"Movie_Count\") \n",
    "plt.grid(True)"
   ]
  },
  {
   "cell_type": "markdown",
   "metadata": {},
   "source": [
    "According to the chart, in the year 2014 has the highest number of movies released follwed by 2013. "
   ]
  },
  {
   "cell_type": "code",
   "execution_count": 99,
   "metadata": {},
   "outputs": [
    {
     "data": {
      "image/png": "[encoded data removed]",
      "text/plain": [
       "<Figure size 432x288 with 1 Axes>"
      ]
     },
     "metadata": {
      "needs_background": "light"
     },
     "output_type": "display_data"
    }
   ],
   "source": [
    "# 4.b. which year has the highest annual profit?\n",
    "\n",
    "high_profit = data.groupby(['release_year'],as_index=False)['profit'].mean()\n",
    "\n",
    "plt.bar(high_profit['release_year'], high_profit['profit']) \n",
    "plt.title(\"Movies_Profit_Over_years[1959-2015]\") \n",
    "plt.xlabel(\"Year\") \n",
    "plt.ylabel(\"Profit [million $]\") \n",
    "plt.grid(True)"
   ]
  },
  {
   "cell_type": "markdown",
   "metadata": {},
   "source": [
    "According to the chart, in the year 2015 has the highest profit followed by 2012."
   ]
  },
  {
   "cell_type": "code",
   "execution_count": 100,
   "metadata": {},
   "outputs": [
    {
     "data": {
      "image/png": "[encoded data removed]",
      "text/plain": [
       "<Figure size 432x288 with 1 Axes>"
      ]
     },
     "metadata": {
      "needs_background": "light"
     },
     "output_type": "display_data"
    }
   ],
   "source": [
    "# 4.c. Which year has the highest annual popularity count?\n",
    "\n",
    "high_popularity = data.groupby(['release_year'],as_index=False)['popularity'].count()\n",
    "\n",
    "plt.plot(high_popularity['release_year'],high_popularity['popularity'],'bo--', linewidth = 2) \n",
    "plt.title(\"Movies_Popularity_Over_Years[1959-2015]\") \n",
    "plt.xlabel(\"Year\") \n",
    "plt.ylabel(\"Count\") \n",
    "plt.grid(True)"
   ]
  },
  {
   "cell_type": "markdown",
   "metadata": {},
   "source": [
    "According to the chart, in the year 2015 has the highest popularity for movies followed by 2014."
   ]
  },
  {
   "cell_type": "markdown",
   "metadata": {},
   "source": [
    "Question 5:\n",
    "\n",
    "5. 5.a What is Average runtime of all the movies in the data set?\n",
    "\n",
    "   5.b How does the yearly average movie run time vary over the years in the [1859-2015] ?"
   ]
  },
  {
   "cell_type": "code",
   "execution_count": 101,
   "metadata": {},
   "outputs": [
    {
     "name": "stdout",
     "output_type": "stream",
     "text": [
      "The average mean runtime is: 103.89758781937479\n"
     ]
    },
    {
     "data": {
      "image/png": "[encoded data removed]",
      "text/plain": [
       "<Figure size 432x288 with 1 Axes>"
      ]
     },
     "metadata": {
      "needs_background": "light"
     },
     "output_type": "display_data"
    }
   ],
   "source": [
    "# 5.a What is Average runtime of all the movies in the data set?\n",
    "# To check average, need t calculate average_mean.\n",
    "\n",
    "avg_mean = data['runtime'].mean()\n",
    "\n",
    "print('The average mean runtime is:', avg_mean)\n",
    "\n",
    "plt.hist(data['runtime'], bins = 30)\n",
    "plt.title('Runtime_Distributions_For_Movies')\n",
    "plt.xlabel(\"Runtime [minutes]\")\n",
    "plt.ylabel(\"Movie_Count\")\n",
    "plt.grid(True)"
   ]
  },
  {
   "cell_type": "code",
   "execution_count": 102,
   "metadata": {},
   "outputs": [
    {
     "data": {
      "image/png": "[encoded data removed]",
      "text/plain": [
       "<Figure size 432x288 with 1 Axes>"
      ]
     },
     "metadata": {
      "needs_background": "light"
     },
     "output_type": "display_data"
    }
   ],
   "source": [
    "# 5.b How does the yearly average movie run time vary over the years in the [1959-2015] ?\n",
    "\n",
    "high_runtime = data.groupby(['release_year'],as_index=False)['runtime'].mean()\n",
    "\n",
    "plt.bar(high_runtime['release_year'], high_runtime['runtime']) \n",
    "plt.title(\"Yearly_Average_Movie_Run_Time[1959-2015]\") \n",
    "plt.xlabel(\"Year\") \n",
    "plt.ylabel(\"Runtime [minutes]\") \n",
    "plt.grid(True)"
   ]
  },
  {
   "cell_type": "markdown",
   "metadata": {},
   "source": [
    "According to chart, the average runtime has slightly decreasing over years."
   ]
  },
  {
   "cell_type": "markdown",
   "metadata": {},
   "source": [
    "Question 6:\n",
    "\n",
    "6. 6.a. Which acter acted in highest number of films?\n",
    "\n",
    "   6.b. Which director directed highest number of films?"
   ]
  },
  {
   "cell_type": "code",
   "execution_count": 103,
   "metadata": {},
   "outputs": [
    {
     "name": "stdout",
     "output_type": "stream",
     "text": [
      "The Top Five Actors are:\n"
     ]
    },
    {
     "data": {
      "text/plain": [
       "Robert De Niro       68\n",
       "Samuel L. Jackson    65\n",
       "Bruce Willis         61\n",
       "Nicolas Cage         59\n",
       "Michael Caine        50\n",
       "dtype: int64"
      ]
     },
     "execution_count": 103,
     "metadata": {},
     "output_type": "execute_result"
    }
   ],
   "source": [
    "#  6.a. Which acter acted in highest number of films? \n",
    "# Create function:\n",
    "\n",
    "def Frequent(name, size):\n",
    "    new_data = data[name].str.cat(sep ='|').split('|')\n",
    "    new_data = pd.Series(new_data).value_counts()[:size]\n",
    "    return new_data\n",
    "\n",
    "print('The Top Five Actors are:')\n",
    "\n",
    "freq_cast = Frequent ('cast', 5)\n",
    "freq_cast"
   ]
  },
  {
   "cell_type": "code",
   "execution_count": 104,
   "metadata": {},
   "outputs": [
    {
     "data": {
      "image/png": "[encoded data removed]",
      "text/plain": [
       "<Figure size 432x288 with 1 Axes>"
      ]
     },
     "metadata": {
      "needs_background": "light"
     },
     "output_type": "display_data"
    }
   ],
   "source": [
    "#Plotting acter acted in highest number of films.\n",
    "\n",
    "freq_cast.plot(kind='bar')\n",
    "plt.title('Most_Number_Of_Movies_By_An_Actor[1959-2015]')\n",
    "plt.xlabel(\"Cast_Name\") \n",
    "plt.ylabel(\"Movie_Count\") \n",
    "plt.grid(True)"
   ]
  },
  {
   "cell_type": "code",
   "execution_count": 105,
   "metadata": {},
   "outputs": [
    {
     "name": "stdout",
     "output_type": "stream",
     "text": [
      "The Top Five Directors are:\n"
     ]
    },
    {
     "data": {
      "text/plain": [
       "Woody Allen         41\n",
       "Clint Eastwood      33\n",
       "Steven Spielberg    30\n",
       "Martin Scorsese     27\n",
       "Ridley Scott        23\n",
       "dtype: int64"
      ]
     },
     "execution_count": 105,
     "metadata": {},
     "output_type": "execute_result"
    }
   ],
   "source": [
    "# 6.b. Which director directed highest number of films?\n",
    "# Use same function:\n",
    "\n",
    "print('The Top Five Directors are:')\n",
    "\n",
    "freq_director = Frequent ('director', 5)\n",
    "freq_director"
   ]
  },
  {
   "cell_type": "code",
   "execution_count": 106,
   "metadata": {},
   "outputs": [
    {
     "data": {
      "text/plain": [
       "Text(0,0.5,'Director_Name')"
      ]
     },
     "execution_count": 106,
     "metadata": {},
     "output_type": "execute_result"
    },
    {
     "data": {
      "image/png": "[encoded data removed]",
      "text/plain": [
       "<Figure size 432x288 with 1 Axes>"
      ]
     },
     "metadata": {},
     "output_type": "display_data"
    }
   ],
   "source": [
    "# Plotting director directed highest number of films.\n",
    "\n",
    "freq_director.plot(kind='pie',autopct='%1.1f%%', shadow = True, startangle = 90)\n",
    "plt.title('TOP 5 Directors[1959-2015]',fontsize = 15)\n",
    "plt.ylabel('Director_Name',fontsize = 14)"
   ]
  },
  {
   "cell_type": "markdown",
   "metadata": {},
   "source": [
    "Question 7:\n",
    "\n",
    "7. 7.a. Is there a relationship between movie popularity v/s vote_count?\n",
    "\n",
    "   7.b. Is there a relationship between movie profit v/s revenue?"
   ]
  },
  {
   "cell_type": "code",
   "execution_count": 107,
   "metadata": {
    "scrolled": true
   },
   "outputs": [
    {
     "data": {
      "image/png": "[encoded data removed]",
      "text/plain": [
       "<Figure size 432x288 with 1 Axes>"
      ]
     },
     "metadata": {
      "needs_background": "light"
     },
     "output_type": "display_data"
    }
   ],
   "source": [
    "# 7.a. Is there a relationship between movie popularity v/s vote_count?\n",
    "\n",
    "data.plot(kind = 'scatter', x = 'vote_count', y = 'popularity')\n",
    "plt.title('vote_count V/S popularity')\n",
    "plt.ylabel(\"vote_count\",fontsize = 12) \n",
    "plt.xlabel(\"popularity\",fontsize = 12) \n",
    "plt.grid(True)"
   ]
  },
  {
   "cell_type": "markdown",
   "metadata": {},
   "source": [
    "According to chart, there is no relationship between popularity Vs vote_count. As popularity increases, Vote_count is not increasing. "
   ]
  },
  {
   "cell_type": "code",
   "execution_count": 108,
   "metadata": {},
   "outputs": [
    {
     "data": {
      "image/png": "[encoded data removed]",
      "text/plain": [
       "<Figure size 432x288 with 1 Axes>"
      ]
     },
     "metadata": {
      "needs_background": "light"
     },
     "output_type": "display_data"
    }
   ],
   "source": [
    "# 7.b. Is there a relationship between movie profit v/s revenue?\n",
    "\n",
    "data.plot(kind = 'scatter', y = 'profit', x = 'revenue')\n",
    "plt.title('Revenue V/S Profit')\n",
    "plt.ylabel(\"Profit [billion $]\",fontsize = 12) \n",
    "plt.xlabel(\"Revenue [billion $]\", fontsize = 12) \n",
    "plt.grid(True)"
   ]
  },
  {
   "cell_type": "markdown",
   "metadata": {},
   "source": [
    "According to chart, YES there is a relationship between revenue Vs profit. As revenue increases, profit also increased."
   ]
  },
  {
   "cell_type": "markdown",
   "metadata": {},
   "source": [
    "CONCLUSION:\n",
    "    \n",
    "Limitations:\n",
    "\n",
    "The above observations may not be accurate. As I am not using statistical methods and machine learning, further analysis is required for accurate information.\n",
    "\n",
    "1. Some rows are deleted from data set, due to NAh or missing values. This may effect the analysis.\n",
    "\n",
    "2. Some columns also deleted from data set, thought not relevent for my analysis. This may effect the analysis too.\n",
    "\n",
    "    In this project, I have analysied general trends in movies.\n",
    "    \n",
    "    And these observations are tentative, not verified by principles of statistics and machine learning.\n",
    "    \n",
    "ACCORDING TO MY ANALYSIS:\n",
    "    \n",
    "    1. Drama has the highest number of movies release followed by Comedy and Thriller.\n",
    "    \n",
    "    2. Inception is the most voted movie, Leonardo DiCaprio is the most voted actor and Christopher Nolan is the most voted director.\n",
    "    \n",
    "    3. AVATAR is highest profit earned movie and THE WARRIOR'S WAY is the lowest profit earned movie.\n",
    "    \n",
    "    4. Highest number of movies released in 2014, highest popularity in 2015 and highest profit earned in 2015 followed by 2012.\n",
    "    \n",
    "    5. The average mean runtime is: 103.89758781937479 by the time of analysis.\n",
    "        \n",
    "    6. ROBERT DE NIRO is the actor who acted highest number of movies and WOODY ALLEN is the director who directed highest number of movies.\n",
    "    \n",
    "    7. There is a relation between revenue and profit. As revenue increases, profit also increases."
   ]
  },
  {
   "cell_type": "code",
   "execution_count": null,
   "metadata": {},
   "outputs": [],
   "source": []
  }
 ],
 "metadata": {
  "kernelspec": {
   "display_name": "Python 3",
   "language": "python",
   "name": "python3"
  },
  "language_info": {
   "codemirror_mode": {
    "name": "ipython",
    "version": 3
   },
   "file_extension": ".py",
   "mimetype": "text/x-python",
   "name": "python",
   "nbconvert_exporter": "python",
   "pygments_lexer": "ipython3",
   "version": "3.7.0"
  }
 },
 "nbformat": 4,
 "nbformat_minor": 2
}
